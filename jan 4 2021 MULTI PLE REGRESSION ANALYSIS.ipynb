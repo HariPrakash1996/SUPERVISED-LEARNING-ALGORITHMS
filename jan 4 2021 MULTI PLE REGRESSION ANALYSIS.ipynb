{
 "cells": [
  {
   "cell_type": "code",
   "execution_count": 1,
   "metadata": {},
   "outputs": [],
   "source": [
    "import numpy as np\n",
    "import pandas as pd\n",
    "import matplotlib.pyplot as plt\n",
    "import seaborn as sbn"
   ]
  },
  {
   "cell_type": "code",
   "execution_count": 2,
   "metadata": {},
   "outputs": [],
   "source": [
    "hd=pd.read_excel(r\"E:\\ds course\\data sets\\prac data sets\\AirPassengers.xlsx\")"
   ]
  },
  {
   "cell_type": "code",
   "execution_count": 3,
   "metadata": {},
   "outputs": [
    {
     "data": {
      "text/plain": [
       "(80, 9)"
      ]
     },
     "execution_count": 3,
     "metadata": {},
     "output_type": "execute_result"
    }
   ],
   "source": [
    "hd.shape"
   ]
  },
  {
   "cell_type": "code",
   "execution_count": 4,
   "metadata": {},
   "outputs": [
    {
     "data": {
      "text/html": [
       "<div>\n",
       "<style scoped>\n",
       "    .dataframe tbody tr th:only-of-type {\n",
       "        vertical-align: middle;\n",
       "    }\n",
       "\n",
       "    .dataframe tbody tr th {\n",
       "        vertical-align: top;\n",
       "    }\n",
       "\n",
       "    .dataframe thead th {\n",
       "        text-align: right;\n",
       "    }\n",
       "</style>\n",
       "<table border=\"1\" class=\"dataframe\">\n",
       "  <thead>\n",
       "    <tr style=\"text-align: right;\">\n",
       "      <th></th>\n",
       "      <th>Week_num</th>\n",
       "      <th>Passengers</th>\n",
       "      <th>Promotion_Budget</th>\n",
       "      <th>Service_Quality_Score</th>\n",
       "      <th>Holiday_week</th>\n",
       "      <th>Delayed_Cancelled_flight_ind</th>\n",
       "      <th>Inter_metro_flight_ratio</th>\n",
       "      <th>Bad_Weather_Ind</th>\n",
       "      <th>Technical_issues_ind</th>\n",
       "    </tr>\n",
       "  </thead>\n",
       "  <tbody>\n",
       "    <tr>\n",
       "      <th>0</th>\n",
       "      <td>1</td>\n",
       "      <td>37824</td>\n",
       "      <td>517356</td>\n",
       "      <td>4.00000</td>\n",
       "      <td>NO</td>\n",
       "      <td>NO</td>\n",
       "      <td>0.70</td>\n",
       "      <td>YES</td>\n",
       "      <td>YES</td>\n",
       "    </tr>\n",
       "    <tr>\n",
       "      <th>1</th>\n",
       "      <td>2</td>\n",
       "      <td>43936</td>\n",
       "      <td>646086</td>\n",
       "      <td>2.67466</td>\n",
       "      <td>NO</td>\n",
       "      <td>YES</td>\n",
       "      <td>0.80</td>\n",
       "      <td>YES</td>\n",
       "      <td>YES</td>\n",
       "    </tr>\n",
       "    <tr>\n",
       "      <th>2</th>\n",
       "      <td>3</td>\n",
       "      <td>42896</td>\n",
       "      <td>638330</td>\n",
       "      <td>3.29473</td>\n",
       "      <td>NO</td>\n",
       "      <td>NO</td>\n",
       "      <td>0.90</td>\n",
       "      <td>NO</td>\n",
       "      <td>NO</td>\n",
       "    </tr>\n",
       "    <tr>\n",
       "      <th>3</th>\n",
       "      <td>4</td>\n",
       "      <td>35792</td>\n",
       "      <td>506492</td>\n",
       "      <td>3.85684</td>\n",
       "      <td>NO</td>\n",
       "      <td>NO</td>\n",
       "      <td>0.40</td>\n",
       "      <td>NO</td>\n",
       "      <td>NO</td>\n",
       "    </tr>\n",
       "    <tr>\n",
       "      <th>4</th>\n",
       "      <td>5</td>\n",
       "      <td>38624</td>\n",
       "      <td>609658</td>\n",
       "      <td>3.90757</td>\n",
       "      <td>NO</td>\n",
       "      <td>NO</td>\n",
       "      <td>0.87</td>\n",
       "      <td>NO</td>\n",
       "      <td>YES</td>\n",
       "    </tr>\n",
       "  </tbody>\n",
       "</table>\n",
       "</div>"
      ],
      "text/plain": [
       "   Week_num  Passengers  Promotion_Budget  Service_Quality_Score Holiday_week  \\\n",
       "0         1       37824            517356                4.00000           NO   \n",
       "1         2       43936            646086                2.67466           NO   \n",
       "2         3       42896            638330                3.29473           NO   \n",
       "3         4       35792            506492                3.85684           NO   \n",
       "4         5       38624            609658                3.90757           NO   \n",
       "\n",
       "  Delayed_Cancelled_flight_ind  Inter_metro_flight_ratio Bad_Weather_Ind  \\\n",
       "0                           NO                      0.70             YES   \n",
       "1                          YES                      0.80             YES   \n",
       "2                           NO                      0.90              NO   \n",
       "3                           NO                      0.40              NO   \n",
       "4                           NO                      0.87              NO   \n",
       "\n",
       "  Technical_issues_ind  \n",
       "0                  YES  \n",
       "1                  YES  \n",
       "2                   NO  \n",
       "3                   NO  \n",
       "4                  YES  "
      ]
     },
     "execution_count": 4,
     "metadata": {},
     "output_type": "execute_result"
    }
   ],
   "source": [
    "hd.head()"
   ]
  },
  {
   "cell_type": "code",
   "execution_count": 5,
   "metadata": {},
   "outputs": [],
   "source": [
    "hd1=hd.select_dtypes(include=[np.number]).copy()"
   ]
  },
  {
   "cell_type": "code",
   "execution_count": 6,
   "metadata": {},
   "outputs": [
    {
     "data": {
      "text/html": [
       "<div>\n",
       "<style scoped>\n",
       "    .dataframe tbody tr th:only-of-type {\n",
       "        vertical-align: middle;\n",
       "    }\n",
       "\n",
       "    .dataframe tbody tr th {\n",
       "        vertical-align: top;\n",
       "    }\n",
       "\n",
       "    .dataframe thead th {\n",
       "        text-align: right;\n",
       "    }\n",
       "</style>\n",
       "<table border=\"1\" class=\"dataframe\">\n",
       "  <thead>\n",
       "    <tr style=\"text-align: right;\">\n",
       "      <th></th>\n",
       "      <th>Week_num</th>\n",
       "      <th>Passengers</th>\n",
       "      <th>Promotion_Budget</th>\n",
       "      <th>Service_Quality_Score</th>\n",
       "      <th>Inter_metro_flight_ratio</th>\n",
       "    </tr>\n",
       "  </thead>\n",
       "  <tbody>\n",
       "    <tr>\n",
       "      <th>0</th>\n",
       "      <td>1</td>\n",
       "      <td>37824</td>\n",
       "      <td>517356</td>\n",
       "      <td>4.00000</td>\n",
       "      <td>0.70</td>\n",
       "    </tr>\n",
       "    <tr>\n",
       "      <th>1</th>\n",
       "      <td>2</td>\n",
       "      <td>43936</td>\n",
       "      <td>646086</td>\n",
       "      <td>2.67466</td>\n",
       "      <td>0.80</td>\n",
       "    </tr>\n",
       "    <tr>\n",
       "      <th>2</th>\n",
       "      <td>3</td>\n",
       "      <td>42896</td>\n",
       "      <td>638330</td>\n",
       "      <td>3.29473</td>\n",
       "      <td>0.90</td>\n",
       "    </tr>\n",
       "    <tr>\n",
       "      <th>3</th>\n",
       "      <td>4</td>\n",
       "      <td>35792</td>\n",
       "      <td>506492</td>\n",
       "      <td>3.85684</td>\n",
       "      <td>0.40</td>\n",
       "    </tr>\n",
       "    <tr>\n",
       "      <th>4</th>\n",
       "      <td>5</td>\n",
       "      <td>38624</td>\n",
       "      <td>609658</td>\n",
       "      <td>3.90757</td>\n",
       "      <td>0.87</td>\n",
       "    </tr>\n",
       "  </tbody>\n",
       "</table>\n",
       "</div>"
      ],
      "text/plain": [
       "   Week_num  Passengers  Promotion_Budget  Service_Quality_Score  \\\n",
       "0         1       37824            517356                4.00000   \n",
       "1         2       43936            646086                2.67466   \n",
       "2         3       42896            638330                3.29473   \n",
       "3         4       35792            506492                3.85684   \n",
       "4         5       38624            609658                3.90757   \n",
       "\n",
       "   Inter_metro_flight_ratio  \n",
       "0                      0.70  \n",
       "1                      0.80  \n",
       "2                      0.90  \n",
       "3                      0.40  \n",
       "4                      0.87  "
      ]
     },
     "execution_count": 6,
     "metadata": {},
     "output_type": "execute_result"
    }
   ],
   "source": [
    "hd1.head()"
   ]
  },
  {
   "cell_type": "code",
   "execution_count": 7,
   "metadata": {},
   "outputs": [],
   "source": [
    "hd1.drop([\"Week_num\"],axis=1,inplace=True)"
   ]
  },
  {
   "cell_type": "code",
   "execution_count": 8,
   "metadata": {},
   "outputs": [
    {
     "data": {
      "text/html": [
       "<div>\n",
       "<style scoped>\n",
       "    .dataframe tbody tr th:only-of-type {\n",
       "        vertical-align: middle;\n",
       "    }\n",
       "\n",
       "    .dataframe tbody tr th {\n",
       "        vertical-align: top;\n",
       "    }\n",
       "\n",
       "    .dataframe thead th {\n",
       "        text-align: right;\n",
       "    }\n",
       "</style>\n",
       "<table border=\"1\" class=\"dataframe\">\n",
       "  <thead>\n",
       "    <tr style=\"text-align: right;\">\n",
       "      <th></th>\n",
       "      <th>Passengers</th>\n",
       "      <th>Promotion_Budget</th>\n",
       "      <th>Service_Quality_Score</th>\n",
       "      <th>Inter_metro_flight_ratio</th>\n",
       "    </tr>\n",
       "  </thead>\n",
       "  <tbody>\n",
       "    <tr>\n",
       "      <th>0</th>\n",
       "      <td>37824</td>\n",
       "      <td>517356</td>\n",
       "      <td>4.00000</td>\n",
       "      <td>0.70</td>\n",
       "    </tr>\n",
       "    <tr>\n",
       "      <th>1</th>\n",
       "      <td>43936</td>\n",
       "      <td>646086</td>\n",
       "      <td>2.67466</td>\n",
       "      <td>0.80</td>\n",
       "    </tr>\n",
       "    <tr>\n",
       "      <th>2</th>\n",
       "      <td>42896</td>\n",
       "      <td>638330</td>\n",
       "      <td>3.29473</td>\n",
       "      <td>0.90</td>\n",
       "    </tr>\n",
       "    <tr>\n",
       "      <th>3</th>\n",
       "      <td>35792</td>\n",
       "      <td>506492</td>\n",
       "      <td>3.85684</td>\n",
       "      <td>0.40</td>\n",
       "    </tr>\n",
       "    <tr>\n",
       "      <th>4</th>\n",
       "      <td>38624</td>\n",
       "      <td>609658</td>\n",
       "      <td>3.90757</td>\n",
       "      <td>0.87</td>\n",
       "    </tr>\n",
       "  </tbody>\n",
       "</table>\n",
       "</div>"
      ],
      "text/plain": [
       "   Passengers  Promotion_Budget  Service_Quality_Score  \\\n",
       "0       37824            517356                4.00000   \n",
       "1       43936            646086                2.67466   \n",
       "2       42896            638330                3.29473   \n",
       "3       35792            506492                3.85684   \n",
       "4       38624            609658                3.90757   \n",
       "\n",
       "   Inter_metro_flight_ratio  \n",
       "0                      0.70  \n",
       "1                      0.80  \n",
       "2                      0.90  \n",
       "3                      0.40  \n",
       "4                      0.87  "
      ]
     },
     "execution_count": 8,
     "metadata": {},
     "output_type": "execute_result"
    }
   ],
   "source": [
    "hd1.head()"
   ]
  },
  {
   "cell_type": "markdown",
   "metadata": {},
   "source": [
    "# objective: would like to predict the number of passengers by using an independent variable "
   ]
  },
  {
   "cell_type": "markdown",
   "metadata": {},
   "source": [
    "# ols : stands for ordinary least square\n",
    "\n",
    "def: try to fit a best line by using best estimators"
   ]
  },
  {
   "cell_type": "code",
   "execution_count": 9,
   "metadata": {},
   "outputs": [
    {
     "data": {
      "text/html": [
       "<table class=\"simpletable\">\n",
       "<caption>OLS Regression Results</caption>\n",
       "<tr>\n",
       "  <th>Dep. Variable:</th>       <td>Passengers</td>    <th>  R-squared:         </th> <td>   0.951</td>\n",
       "</tr>\n",
       "<tr>\n",
       "  <th>Model:</th>                   <td>OLS</td>       <th>  Adj. R-squared:    </th> <td>   0.949</td>\n",
       "</tr>\n",
       "<tr>\n",
       "  <th>Method:</th>             <td>Least Squares</td>  <th>  F-statistic:       </th> <td>   495.6</td>\n",
       "</tr>\n",
       "<tr>\n",
       "  <th>Date:</th>             <td>Wed, 06 Jan 2021</td> <th>  Prob (F-statistic):</th> <td>8.71e-50</td>\n",
       "</tr>\n",
       "<tr>\n",
       "  <th>Time:</th>                 <td>16:34:08</td>     <th>  Log-Likelihood:    </th> <td> -738.45</td>\n",
       "</tr>\n",
       "<tr>\n",
       "  <th>No. Observations:</th>      <td>    80</td>      <th>  AIC:               </th> <td>   1485.</td>\n",
       "</tr>\n",
       "<tr>\n",
       "  <th>Df Residuals:</th>          <td>    76</td>      <th>  BIC:               </th> <td>   1494.</td>\n",
       "</tr>\n",
       "<tr>\n",
       "  <th>Df Model:</th>              <td>     3</td>      <th>                     </th>     <td> </td>   \n",
       "</tr>\n",
       "<tr>\n",
       "  <th>Covariance Type:</th>      <td>nonrobust</td>    <th>                     </th>     <td> </td>   \n",
       "</tr>\n",
       "</table>\n",
       "<table class=\"simpletable\">\n",
       "<tr>\n",
       "              <td></td>                <th>coef</th>     <th>std err</th>      <th>t</th>      <th>P>|t|</th>  <th>[0.025</th>    <th>0.975]</th>  \n",
       "</tr>\n",
       "<tr>\n",
       "  <th>Intercept</th>                <td> 1.921e+04</td> <td> 3542.694</td> <td>    5.424</td> <td> 0.000</td> <td> 1.22e+04</td> <td> 2.63e+04</td>\n",
       "</tr>\n",
       "<tr>\n",
       "  <th>Promotion_Budget</th>         <td>    0.0555</td> <td>    0.004</td> <td>   15.476</td> <td> 0.000</td> <td>    0.048</td> <td>    0.063</td>\n",
       "</tr>\n",
       "<tr>\n",
       "  <th>Service_Quality_Score</th>    <td>-2802.0708</td> <td>  530.382</td> <td>   -5.283</td> <td> 0.000</td> <td>-3858.419</td> <td>-1745.723</td>\n",
       "</tr>\n",
       "<tr>\n",
       "  <th>Inter_metro_flight_ratio</th> <td>-2003.4508</td> <td> 2129.095</td> <td>   -0.941</td> <td> 0.350</td> <td>-6243.912</td> <td> 2237.010</td>\n",
       "</tr>\n",
       "</table>\n",
       "<table class=\"simpletable\">\n",
       "<tr>\n",
       "  <th>Omnibus:</th>       <td> 6.902</td> <th>  Durbin-Watson:     </th> <td>   2.312</td>\n",
       "</tr>\n",
       "<tr>\n",
       "  <th>Prob(Omnibus):</th> <td> 0.032</td> <th>  Jarque-Bera (JB):  </th> <td>   2.759</td>\n",
       "</tr>\n",
       "<tr>\n",
       "  <th>Skew:</th>          <td>-0.051</td> <th>  Prob(JB):          </th> <td>   0.252</td>\n",
       "</tr>\n",
       "<tr>\n",
       "  <th>Kurtosis:</th>      <td> 2.096</td> <th>  Cond. No.          </th> <td>8.22e+06</td>\n",
       "</tr>\n",
       "</table><br/><br/>Warnings:<br/>[1] Standard Errors assume that the covariance matrix of the errors is correctly specified.<br/>[2] The condition number is large, 8.22e+06. This might indicate that there are<br/>strong multicollinearity or other numerical problems."
      ],
      "text/plain": [
       "<class 'statsmodels.iolib.summary.Summary'>\n",
       "\"\"\"\n",
       "                            OLS Regression Results                            \n",
       "==============================================================================\n",
       "Dep. Variable:             Passengers   R-squared:                       0.951\n",
       "Model:                            OLS   Adj. R-squared:                  0.949\n",
       "Method:                 Least Squares   F-statistic:                     495.6\n",
       "Date:                Wed, 06 Jan 2021   Prob (F-statistic):           8.71e-50\n",
       "Time:                        16:34:08   Log-Likelihood:                -738.45\n",
       "No. Observations:                  80   AIC:                             1485.\n",
       "Df Residuals:                      76   BIC:                             1494.\n",
       "Df Model:                           3                                         \n",
       "Covariance Type:            nonrobust                                         \n",
       "============================================================================================\n",
       "                               coef    std err          t      P>|t|      [0.025      0.975]\n",
       "--------------------------------------------------------------------------------------------\n",
       "Intercept                 1.921e+04   3542.694      5.424      0.000    1.22e+04    2.63e+04\n",
       "Promotion_Budget             0.0555      0.004     15.476      0.000       0.048       0.063\n",
       "Service_Quality_Score    -2802.0708    530.382     -5.283      0.000   -3858.419   -1745.723\n",
       "Inter_metro_flight_ratio -2003.4508   2129.095     -0.941      0.350   -6243.912    2237.010\n",
       "==============================================================================\n",
       "Omnibus:                        6.902   Durbin-Watson:                   2.312\n",
       "Prob(Omnibus):                  0.032   Jarque-Bera (JB):                2.759\n",
       "Skew:                          -0.051   Prob(JB):                        0.252\n",
       "Kurtosis:                       2.096   Cond. No.                     8.22e+06\n",
       "==============================================================================\n",
       "\n",
       "Warnings:\n",
       "[1] Standard Errors assume that the covariance matrix of the errors is correctly specified.\n",
       "[2] The condition number is large, 8.22e+06. This might indicate that there are\n",
       "strong multicollinearity or other numerical problems.\n",
       "\"\"\""
      ]
     },
     "execution_count": 9,
     "metadata": {},
     "output_type": "execute_result"
    }
   ],
   "source": [
    "import statsmodels.formula.api as sm\n",
    "model=sm.ols(formula=\"Passengers~Promotion_Budget+Service_Quality_Score+Inter_metro_flight_ratio\",data=hd1).fit()\n",
    "model.summary()"
   ]
  },
  {
   "cell_type": "code",
   "execution_count": 10,
   "metadata": {},
   "outputs": [
    {
     "name": "stdout",
     "output_type": "stream",
     "text": [
      "R2 value :  0.6410828151089258\n",
      "adj_rsquared :  0.46162422266338876\n"
     ]
    }
   ],
   "source": [
    "import numpy as np\n",
    "y=np.array([21,21,22.8,21.4,18.7,18.1,14.3,24.4,22.8,19.2])\n",
    "yhat=np.array([21.5,21.14,26.1,20.2,17.5,19.7,14.9,22.5,25.1,18])\n",
    "\n",
    "\n",
    "R2=1-np.sum((yhat-y)**2)/np.sum((y-np.mean(y))**2)\n",
    "print(\"R2 value : \",R2)\n",
    "n=y.shape[0]\n",
    "k=3\n",
    "adj_rsquared=1-(1-R2)*((n-1)/(n-k-1))\n",
    "print(\"adj_rsquared : \",adj_rsquared)"
   ]
  },
  {
   "cell_type": "code",
   "execution_count": 11,
   "metadata": {},
   "outputs": [
    {
     "data": {
      "text/html": [
       "<table class=\"simpletable\">\n",
       "<caption>OLS Regression Results</caption>\n",
       "<tr>\n",
       "  <th>Dep. Variable:</th>       <td>Passengers</td>    <th>  R-squared:         </th> <td>   0.951</td>\n",
       "</tr>\n",
       "<tr>\n",
       "  <th>Model:</th>                   <td>OLS</td>       <th>  Adj. R-squared:    </th> <td>   0.950</td>\n",
       "</tr>\n",
       "<tr>\n",
       "  <th>Method:</th>             <td>Least Squares</td>  <th>  F-statistic:       </th> <td>   744.0</td>\n",
       "</tr>\n",
       "<tr>\n",
       "  <th>Date:</th>             <td>Wed, 06 Jan 2021</td> <th>  Prob (F-statistic):</th> <td>4.38e-51</td>\n",
       "</tr>\n",
       "<tr>\n",
       "  <th>Time:</th>                 <td>16:34:34</td>     <th>  Log-Likelihood:    </th> <td> -738.91</td>\n",
       "</tr>\n",
       "<tr>\n",
       "  <th>No. Observations:</th>      <td>    80</td>      <th>  AIC:               </th> <td>   1484.</td>\n",
       "</tr>\n",
       "<tr>\n",
       "  <th>Df Residuals:</th>          <td>    77</td>      <th>  BIC:               </th> <td>   1491.</td>\n",
       "</tr>\n",
       "<tr>\n",
       "  <th>Df Model:</th>              <td>     2</td>      <th>                     </th>     <td> </td>   \n",
       "</tr>\n",
       "<tr>\n",
       "  <th>Covariance Type:</th>      <td>nonrobust</td>    <th>                     </th>     <td> </td>   \n",
       "</tr>\n",
       "</table>\n",
       "<table class=\"simpletable\">\n",
       "<tr>\n",
       "            <td></td>               <th>coef</th>     <th>std err</th>      <th>t</th>      <th>P>|t|</th>  <th>[0.025</th>    <th>0.975]</th>  \n",
       "</tr>\n",
       "<tr>\n",
       "  <th>Intercept</th>             <td> 1.853e+04</td> <td> 3464.796</td> <td>    5.348</td> <td> 0.000</td> <td> 1.16e+04</td> <td> 2.54e+04</td>\n",
       "</tr>\n",
       "<tr>\n",
       "  <th>Promotion_Budget</th>      <td>    0.0544</td> <td>    0.003</td> <td>   16.063</td> <td> 0.000</td> <td>    0.048</td> <td>    0.061</td>\n",
       "</tr>\n",
       "<tr>\n",
       "  <th>Service_Quality_Score</th> <td>-2807.3095</td> <td>  529.958</td> <td>   -5.297</td> <td> 0.000</td> <td>-3862.592</td> <td>-1752.028</td>\n",
       "</tr>\n",
       "</table>\n",
       "<table class=\"simpletable\">\n",
       "<tr>\n",
       "  <th>Omnibus:</th>       <td> 7.728</td> <th>  Durbin-Watson:     </th> <td>   2.331</td>\n",
       "</tr>\n",
       "<tr>\n",
       "  <th>Prob(Omnibus):</th> <td> 0.021</td> <th>  Jarque-Bera (JB):  </th> <td>   2.913</td>\n",
       "</tr>\n",
       "<tr>\n",
       "  <th>Skew:</th>          <td>-0.043</td> <th>  Prob(JB):          </th> <td>   0.233</td>\n",
       "</tr>\n",
       "<tr>\n",
       "  <th>Kurtosis:</th>      <td> 2.069</td> <th>  Cond. No.          </th> <td>7.97e+06</td>\n",
       "</tr>\n",
       "</table><br/><br/>Warnings:<br/>[1] Standard Errors assume that the covariance matrix of the errors is correctly specified.<br/>[2] The condition number is large, 7.97e+06. This might indicate that there are<br/>strong multicollinearity or other numerical problems."
      ],
      "text/plain": [
       "<class 'statsmodels.iolib.summary.Summary'>\n",
       "\"\"\"\n",
       "                            OLS Regression Results                            \n",
       "==============================================================================\n",
       "Dep. Variable:             Passengers   R-squared:                       0.951\n",
       "Model:                            OLS   Adj. R-squared:                  0.950\n",
       "Method:                 Least Squares   F-statistic:                     744.0\n",
       "Date:                Wed, 06 Jan 2021   Prob (F-statistic):           4.38e-51\n",
       "Time:                        16:34:34   Log-Likelihood:                -738.91\n",
       "No. Observations:                  80   AIC:                             1484.\n",
       "Df Residuals:                      77   BIC:                             1491.\n",
       "Df Model:                           2                                         \n",
       "Covariance Type:            nonrobust                                         \n",
       "=========================================================================================\n",
       "                            coef    std err          t      P>|t|      [0.025      0.975]\n",
       "-----------------------------------------------------------------------------------------\n",
       "Intercept              1.853e+04   3464.796      5.348      0.000    1.16e+04    2.54e+04\n",
       "Promotion_Budget          0.0544      0.003     16.063      0.000       0.048       0.061\n",
       "Service_Quality_Score -2807.3095    529.958     -5.297      0.000   -3862.592   -1752.028\n",
       "==============================================================================\n",
       "Omnibus:                        7.728   Durbin-Watson:                   2.331\n",
       "Prob(Omnibus):                  0.021   Jarque-Bera (JB):                2.913\n",
       "Skew:                          -0.043   Prob(JB):                        0.233\n",
       "Kurtosis:                       2.069   Cond. No.                     7.97e+06\n",
       "==============================================================================\n",
       "\n",
       "Warnings:\n",
       "[1] Standard Errors assume that the covariance matrix of the errors is correctly specified.\n",
       "[2] The condition number is large, 7.97e+06. This might indicate that there are\n",
       "strong multicollinearity or other numerical problems.\n",
       "\"\"\""
      ]
     },
     "execution_count": 11,
     "metadata": {},
     "output_type": "execute_result"
    }
   ],
   "source": [
    "import statsmodels.formula.api as sm\n",
    "model=sm.ols(formula=\"Passengers~Promotion_Budget+Service_Quality_Score\",data=hd1).fit()\n",
    "model.summary()"
   ]
  },
  {
   "cell_type": "code",
   "execution_count": 13,
   "metadata": {},
   "outputs": [
    {
     "data": {
      "text/plain": [
       "Intercept                18530.068170\n",
       "Promotion_Budget             0.054399\n",
       "Service_Quality_Score    -2807.309543\n",
       "dtype: float64"
      ]
     },
     "execution_count": 13,
     "metadata": {},
     "output_type": "execute_result"
    }
   ],
   "source": [
    "model.params"
   ]
  },
  {
   "cell_type": "code",
   "execution_count": 14,
   "metadata": {},
   "outputs": [],
   "source": [
    "hd1[\"predict\"]=model.predict()"
   ]
  },
  {
   "cell_type": "code",
   "execution_count": 15,
   "metadata": {},
   "outputs": [
    {
     "data": {
      "text/html": [
       "<div>\n",
       "<style scoped>\n",
       "    .dataframe tbody tr th:only-of-type {\n",
       "        vertical-align: middle;\n",
       "    }\n",
       "\n",
       "    .dataframe tbody tr th {\n",
       "        vertical-align: top;\n",
       "    }\n",
       "\n",
       "    .dataframe thead th {\n",
       "        text-align: right;\n",
       "    }\n",
       "</style>\n",
       "<table border=\"1\" class=\"dataframe\">\n",
       "  <thead>\n",
       "    <tr style=\"text-align: right;\">\n",
       "      <th></th>\n",
       "      <th>Passengers</th>\n",
       "      <th>Promotion_Budget</th>\n",
       "      <th>Service_Quality_Score</th>\n",
       "      <th>Inter_metro_flight_ratio</th>\n",
       "      <th>predict</th>\n",
       "    </tr>\n",
       "  </thead>\n",
       "  <tbody>\n",
       "    <tr>\n",
       "      <th>0</th>\n",
       "      <td>37824</td>\n",
       "      <td>517356</td>\n",
       "      <td>4.00000</td>\n",
       "      <td>0.70</td>\n",
       "      <td>35444.648767</td>\n",
       "    </tr>\n",
       "    <tr>\n",
       "      <th>1</th>\n",
       "      <td>43936</td>\n",
       "      <td>646086</td>\n",
       "      <td>2.67466</td>\n",
       "      <td>0.80</td>\n",
       "      <td>46168.113898</td>\n",
       "    </tr>\n",
       "    <tr>\n",
       "      <th>2</th>\n",
       "      <td>42896</td>\n",
       "      <td>638330</td>\n",
       "      <td>3.29473</td>\n",
       "      <td>0.90</td>\n",
       "      <td>44005.464281</td>\n",
       "    </tr>\n",
       "    <tr>\n",
       "      <th>3</th>\n",
       "      <td>35792</td>\n",
       "      <td>506492</td>\n",
       "      <td>3.85684</td>\n",
       "      <td>0.40</td>\n",
       "      <td>35255.548901</td>\n",
       "    </tr>\n",
       "    <tr>\n",
       "      <th>4</th>\n",
       "      <td>38624</td>\n",
       "      <td>609658</td>\n",
       "      <td>3.90757</td>\n",
       "      <td>0.87</td>\n",
       "      <td>40725.295167</td>\n",
       "    </tr>\n",
       "  </tbody>\n",
       "</table>\n",
       "</div>"
      ],
      "text/plain": [
       "   Passengers  Promotion_Budget  Service_Quality_Score  \\\n",
       "0       37824            517356                4.00000   \n",
       "1       43936            646086                2.67466   \n",
       "2       42896            638330                3.29473   \n",
       "3       35792            506492                3.85684   \n",
       "4       38624            609658                3.90757   \n",
       "\n",
       "   Inter_metro_flight_ratio       predict  \n",
       "0                      0.70  35444.648767  \n",
       "1                      0.80  46168.113898  \n",
       "2                      0.90  44005.464281  \n",
       "3                      0.40  35255.548901  \n",
       "4                      0.87  40725.295167  "
      ]
     },
     "execution_count": 15,
     "metadata": {},
     "output_type": "execute_result"
    }
   ],
   "source": [
    "hd1.head()"
   ]
  },
  {
   "cell_type": "code",
   "execution_count": 16,
   "metadata": {},
   "outputs": [],
   "source": [
    "hd1[\"error\"]=(hd1[\"Passengers\"]-hd1[\"predict\"])**2"
   ]
  },
  {
   "cell_type": "code",
   "execution_count": 17,
   "metadata": {},
   "outputs": [
    {
     "data": {
      "text/html": [
       "<div>\n",
       "<style scoped>\n",
       "    .dataframe tbody tr th:only-of-type {\n",
       "        vertical-align: middle;\n",
       "    }\n",
       "\n",
       "    .dataframe tbody tr th {\n",
       "        vertical-align: top;\n",
       "    }\n",
       "\n",
       "    .dataframe thead th {\n",
       "        text-align: right;\n",
       "    }\n",
       "</style>\n",
       "<table border=\"1\" class=\"dataframe\">\n",
       "  <thead>\n",
       "    <tr style=\"text-align: right;\">\n",
       "      <th></th>\n",
       "      <th>Passengers</th>\n",
       "      <th>Promotion_Budget</th>\n",
       "      <th>Service_Quality_Score</th>\n",
       "      <th>Inter_metro_flight_ratio</th>\n",
       "      <th>predict</th>\n",
       "      <th>error</th>\n",
       "    </tr>\n",
       "  </thead>\n",
       "  <tbody>\n",
       "    <tr>\n",
       "      <th>0</th>\n",
       "      <td>37824</td>\n",
       "      <td>517356</td>\n",
       "      <td>4.00000</td>\n",
       "      <td>0.70</td>\n",
       "      <td>35444.648767</td>\n",
       "      <td>5.661312e+06</td>\n",
       "    </tr>\n",
       "    <tr>\n",
       "      <th>1</th>\n",
       "      <td>43936</td>\n",
       "      <td>646086</td>\n",
       "      <td>2.67466</td>\n",
       "      <td>0.80</td>\n",
       "      <td>46168.113898</td>\n",
       "      <td>4.982332e+06</td>\n",
       "    </tr>\n",
       "    <tr>\n",
       "      <th>2</th>\n",
       "      <td>42896</td>\n",
       "      <td>638330</td>\n",
       "      <td>3.29473</td>\n",
       "      <td>0.90</td>\n",
       "      <td>44005.464281</td>\n",
       "      <td>1.230911e+06</td>\n",
       "    </tr>\n",
       "    <tr>\n",
       "      <th>3</th>\n",
       "      <td>35792</td>\n",
       "      <td>506492</td>\n",
       "      <td>3.85684</td>\n",
       "      <td>0.40</td>\n",
       "      <td>35255.548901</td>\n",
       "      <td>2.877798e+05</td>\n",
       "    </tr>\n",
       "    <tr>\n",
       "      <th>4</th>\n",
       "      <td>38624</td>\n",
       "      <td>609658</td>\n",
       "      <td>3.90757</td>\n",
       "      <td>0.87</td>\n",
       "      <td>40725.295167</td>\n",
       "      <td>4.415441e+06</td>\n",
       "    </tr>\n",
       "  </tbody>\n",
       "</table>\n",
       "</div>"
      ],
      "text/plain": [
       "   Passengers  Promotion_Budget  Service_Quality_Score  \\\n",
       "0       37824            517356                4.00000   \n",
       "1       43936            646086                2.67466   \n",
       "2       42896            638330                3.29473   \n",
       "3       35792            506492                3.85684   \n",
       "4       38624            609658                3.90757   \n",
       "\n",
       "   Inter_metro_flight_ratio       predict         error  \n",
       "0                      0.70  35444.648767  5.661312e+06  \n",
       "1                      0.80  46168.113898  4.982332e+06  \n",
       "2                      0.90  44005.464281  1.230911e+06  \n",
       "3                      0.40  35255.548901  2.877798e+05  \n",
       "4                      0.87  40725.295167  4.415441e+06  "
      ]
     },
     "execution_count": 17,
     "metadata": {},
     "output_type": "execute_result"
    }
   ],
   "source": [
    "hd1.head()"
   ]
  },
  {
   "cell_type": "code",
   "execution_count": 18,
   "metadata": {},
   "outputs": [],
   "source": [
    "pd.options.display.float_format=\"{:.2f}\".format"
   ]
  },
  {
   "cell_type": "code",
   "execution_count": 19,
   "metadata": {},
   "outputs": [
    {
     "data": {
      "text/html": [
       "<div>\n",
       "<style scoped>\n",
       "    .dataframe tbody tr th:only-of-type {\n",
       "        vertical-align: middle;\n",
       "    }\n",
       "\n",
       "    .dataframe tbody tr th {\n",
       "        vertical-align: top;\n",
       "    }\n",
       "\n",
       "    .dataframe thead th {\n",
       "        text-align: right;\n",
       "    }\n",
       "</style>\n",
       "<table border=\"1\" class=\"dataframe\">\n",
       "  <thead>\n",
       "    <tr style=\"text-align: right;\">\n",
       "      <th></th>\n",
       "      <th>Passengers</th>\n",
       "      <th>Promotion_Budget</th>\n",
       "      <th>Service_Quality_Score</th>\n",
       "      <th>Inter_metro_flight_ratio</th>\n",
       "      <th>predict</th>\n",
       "      <th>error</th>\n",
       "    </tr>\n",
       "  </thead>\n",
       "  <tbody>\n",
       "    <tr>\n",
       "      <th>0</th>\n",
       "      <td>37824</td>\n",
       "      <td>517356</td>\n",
       "      <td>4.00</td>\n",
       "      <td>0.70</td>\n",
       "      <td>35444.65</td>\n",
       "      <td>5661312.29</td>\n",
       "    </tr>\n",
       "    <tr>\n",
       "      <th>1</th>\n",
       "      <td>43936</td>\n",
       "      <td>646086</td>\n",
       "      <td>2.67</td>\n",
       "      <td>0.80</td>\n",
       "      <td>46168.11</td>\n",
       "      <td>4982332.46</td>\n",
       "    </tr>\n",
       "    <tr>\n",
       "      <th>2</th>\n",
       "      <td>42896</td>\n",
       "      <td>638330</td>\n",
       "      <td>3.29</td>\n",
       "      <td>0.90</td>\n",
       "      <td>44005.46</td>\n",
       "      <td>1230910.99</td>\n",
       "    </tr>\n",
       "    <tr>\n",
       "      <th>3</th>\n",
       "      <td>35792</td>\n",
       "      <td>506492</td>\n",
       "      <td>3.86</td>\n",
       "      <td>0.40</td>\n",
       "      <td>35255.55</td>\n",
       "      <td>287779.78</td>\n",
       "    </tr>\n",
       "    <tr>\n",
       "      <th>4</th>\n",
       "      <td>38624</td>\n",
       "      <td>609658</td>\n",
       "      <td>3.91</td>\n",
       "      <td>0.87</td>\n",
       "      <td>40725.30</td>\n",
       "      <td>4415441.38</td>\n",
       "    </tr>\n",
       "  </tbody>\n",
       "</table>\n",
       "</div>"
      ],
      "text/plain": [
       "   Passengers  Promotion_Budget  Service_Quality_Score  \\\n",
       "0       37824            517356                   4.00   \n",
       "1       43936            646086                   2.67   \n",
       "2       42896            638330                   3.29   \n",
       "3       35792            506492                   3.86   \n",
       "4       38624            609658                   3.91   \n",
       "\n",
       "   Inter_metro_flight_ratio  predict      error  \n",
       "0                      0.70 35444.65 5661312.29  \n",
       "1                      0.80 46168.11 4982332.46  \n",
       "2                      0.90 44005.46 1230910.99  \n",
       "3                      0.40 35255.55  287779.78  \n",
       "4                      0.87 40725.30 4415441.38  "
      ]
     },
     "execution_count": 19,
     "metadata": {},
     "output_type": "execute_result"
    }
   ],
   "source": [
    "hd1.head()"
   ]
  },
  {
   "cell_type": "code",
   "execution_count": 20,
   "metadata": {},
   "outputs": [
    {
     "data": {
      "text/plain": [
       "<matplotlib.axes._subplots.AxesSubplot at 0x16ac837fa60>"
      ]
     },
     "execution_count": 20,
     "metadata": {},
     "output_type": "execute_result"
    },
    {
     "data": {
      "image/png": "[encoded data removed]",
      "text/plain": [
       "<Figure size 432x288 with 1 Axes>"
      ]
     },
     "metadata": {
      "needs_background": "light"
     },
     "output_type": "display_data"
    }
   ],
   "source": [
    "sbn.distplot(hd1[\"error\"])"
   ]
  },
  {
   "cell_type": "code",
   "execution_count": 21,
   "metadata": {},
   "outputs": [
    {
     "data": {
      "text/plain": [
       "<matplotlib.axes._subplots.AxesSubplot at 0x16ac84d86a0>"
      ]
     },
     "execution_count": 21,
     "metadata": {},
     "output_type": "execute_result"
    },
    {
     "data": {
      "image/png": "[encoded data removed]",
      "text/plain": [
       "<Figure size 432x288 with 1 Axes>"
      ]
     },
     "metadata": {
      "needs_background": "light"
     },
     "output_type": "display_data"
    }
   ],
   "source": [
    "sbn.distplot(hd1[\"predict\"])"
   ]
  },
  {
   "cell_type": "code",
   "execution_count": 22,
   "metadata": {},
   "outputs": [
    {
     "data": {
      "text/plain": [
       "<matplotlib.axes._subplots.AxesSubplot at 0x16ac855e250>"
      ]
     },
     "execution_count": 22,
     "metadata": {},
     "output_type": "execute_result"
    },
    {
     "data": {
      "image/png": "[encoded data removed]",
      "text/plain": [
       "<Figure size 432x288 with 1 Axes>"
      ]
     },
     "metadata": {
      "needs_background": "light"
     },
     "output_type": "display_data"
    }
   ],
   "source": [
    "sbn.distplot(hd1[\"Passengers\"]-hd1[\"predict\"])"
   ]
  },
  {
   "cell_type": "code",
   "execution_count": 24,
   "metadata": {},
   "outputs": [
    {
     "data": {
      "text/plain": [
       "-0.04349032939958689"
      ]
     },
     "execution_count": 24,
     "metadata": {},
     "output_type": "execute_result"
    }
   ],
   "source": [
    "(hd1[\"Passengers\"]-hd1[\"predict\"]).skew()"
   ]
  },
  {
   "cell_type": "code",
   "execution_count": 25,
   "metadata": {},
   "outputs": [
    {
     "data": {
      "text/plain": [
       "-0.9128740155482986"
      ]
     },
     "execution_count": 25,
     "metadata": {},
     "output_type": "execute_result"
    }
   ],
   "source": [
    "(hd1[\"Passengers\"]-hd1[\"predict\"]).kurtosis()"
   ]
  },
  {
   "cell_type": "code",
   "execution_count": 26,
   "metadata": {},
   "outputs": [
    {
     "data": {
      "text/plain": [
       "<matplotlib.axes._subplots.AxesSubplot at 0x16ac8605070>"
      ]
     },
     "execution_count": 26,
     "metadata": {},
     "output_type": "execute_result"
    },
    {
     "data": {
      "image/png": "[encoded data removed]",
      "text/plain": [
       "<Figure size 432x288 with 1 Axes>"
      ]
     },
     "metadata": {
      "needs_background": "light"
     },
     "output_type": "display_data"
    }
   ],
   "source": [
    "sbn.countplot(x=\"Passengers\",data=hd1)"
   ]
  },
  {
   "cell_type": "code",
   "execution_count": 28,
   "metadata": {},
   "outputs": [
    {
     "data": {
      "text/plain": [
       "<matplotlib.axes._subplots.AxesSubplot at 0x16ac86e8340>"
      ]
     },
     "execution_count": 28,
     "metadata": {},
     "output_type": "execute_result"
    },
    {
     "data": {
      "image/png": "[encoded data removed]",
      "text/plain": [
       "<Figure size 432x288 with 1 Axes>"
      ]
     },
     "metadata": {
      "needs_background": "light"
     },
     "output_type": "display_data"
    }
   ],
   "source": [
    "sbn.distplot(hd1[\"Passengers\"]-hd1[\"predict\"])"
   ]
  },
  {
   "cell_type": "code",
   "execution_count": null,
   "metadata": {},
   "outputs": [],
   "source": []
  }
 ],
 "metadata": {
  "kernelspec": {
   "display_name": "Python 3",
   "language": "python",
   "name": "python3"
  },
  "language_info": {
   "codemirror_mode": {
    "name": "ipython",
    "version": 3
   },
   "file_extension": ".py",
   "mimetype": "text/x-python",
   "name": "python",
   "nbconvert_exporter": "python",
   "pygments_lexer": "ipython3",
   "version": "3.8.3"
  }
 },
 "nbformat": 4,
 "nbformat_minor": 4
}
