{
 "cells": [
  {
   "cell_type": "code",
   "execution_count": 1,
   "metadata": {},
   "outputs": [],
   "source": [
    "import numpy as np\n",
    "import pandas as pd\n",
    "import os\n",
    "import glob\n",
    "import math\n",
    "import sys\n",
    "import matplotlib.pyplot as plt\n",
    "%matplotlib inline\n",
    "import seaborn as sbn\n",
    "sbn.set(color_codes=True)\n",
    "import warnings\n",
    "warnings.filterwarnings(\"ignore\")"
   ]
  },
  {
   "cell_type": "markdown",
   "metadata": {},
   "source": [
    "# GRADIENT DESCENT"
   ]
  },
  {
   "cell_type": "markdown",
   "metadata": {},
   "source": [
    "# def:\n",
    "* gradient descent is an optimization algorithm used to minimize some function by iteratively oving in the direction of steepest descent as defined by the negative of the gradient \n",
    "* in  ML we use gradient descent to update the parameters of our model"
   ]
  },
  {
   "cell_type": "markdown",
   "metadata": {},
   "source": [
    "* eroor = actual y - predicted yhat\n",
    "\n",
    "* to measure the error of the data we use RMSE\n",
    "# RMSE STANDS FOR  root mean square error\n",
    "* it is an abolsute measure of fit\n",
    "* lower the rmse value which fits the better of the model\n",
    "* rmse is the square root of the variance of the residuals\n",
    "* it indicates the how close the observed data points are to the model predicted values\n",
    "\n",
    "\n",
    "\n",
    "* the distance between the vector of predicted values and vector of observed values\n",
    "* rmse is absolute fit of a regression model\n",
    "* IF RMSE IS HIGHER ERROR IS HIGHER\n",
    "* IT MEANS THAT FAR DEVIATION FROM THE OBSERVED DATA POINT TO THE PREDICTED DATA POINT"
   ]
  },
  {
   "cell_type": "markdown",
   "metadata": {},
   "source": [
    "# OUR GOAL IS TRYING TO MINIMIZE THE ERROR VALUE MSE"
   ]
  },
  {
   "cell_type": "markdown",
   "metadata": {},
   "source": [
    "# FOR LINEAR REGRESSION THE COST FUNCTION IS MSE"
   ]
  },
  {
   "cell_type": "markdown",
   "metadata": {},
   "source": [
    "# COST_FUNCTION: AVG errors of all the datapoints is called data points"
   ]
  },
  {
   "cell_type": "markdown",
   "metadata": {},
   "source": [
    "#  gradient descent main goal is to minimize the errors or cost function of the model \n",
    "\n",
    "* "
   ]
  },
  {
   "cell_type": "markdown",
   "metadata": {},
   "source": [
    " "
   ]
  },
  {
   "cell_type": "code",
   "execution_count": 1,
   "metadata": {},
   "outputs": [],
   "source": [
    "import numpy as np\n",
    "import pandas as pd\n",
    "import matplotlib.pyplot as plt\n",
    "%matplotlib inline"
   ]
  },
  {
   "cell_type": "code",
   "execution_count": 2,
   "metadata": {},
   "outputs": [],
   "source": [
    "import seaborn as sbn\n",
    "sbn.set(color_codes=True)"
   ]
  },
  {
   "cell_type": "code",
   "execution_count": 3,
   "metadata": {},
   "outputs": [],
   "source": [
    "x=np.random.uniform(-4,4,500)"
   ]
  },
  {
   "cell_type": "code",
   "execution_count": 4,
   "metadata": {},
   "outputs": [
    {
     "data": {
      "text/plain": [
       "array([ 0.20045942, -2.46287126, -2.18661961, -2.44779053, -3.58256369,\n",
       "        3.81254301,  1.81352097,  0.91990564, -0.86895718,  0.35077128,\n",
       "       -1.08904688, -0.18774315,  1.67435973,  3.5107754 , -2.73855941,\n",
       "       -1.95105619,  2.42787048, -1.17832433, -0.88355281,  3.8452908 ,\n",
       "       -3.14654916,  3.13870528, -1.97729404, -2.89234825,  3.03825959,\n",
       "        0.71042141, -2.50469424,  2.42539187, -1.03625893, -3.7502201 ,\n",
       "       -0.28026164, -0.35369716,  2.72499414,  1.2889783 ,  0.28347436,\n",
       "        0.25386725, -0.22931063, -1.5192919 , -3.89203045, -2.45769642,\n",
       "        3.22548433, -0.85603207, -3.10914741,  2.36369316, -1.24719709,\n",
       "        2.22973828, -1.71980515,  0.65616909, -1.55813242,  0.28800142,\n",
       "       -2.43355074,  3.61887541, -1.77132773,  0.75516394, -1.70468506,\n",
       "        0.7840393 ,  1.10414467, -0.77233202,  0.54548897, -1.71363466,\n",
       "       -1.76040945,  1.55117113,  3.71365141,  2.75744512,  1.06632374,\n",
       "        0.82030543,  2.27577464,  0.26092686, -1.54306486,  1.92400244,\n",
       "       -3.94053547,  1.87428094,  1.14750437, -2.81779592,  3.84684314,\n",
       "       -0.09876244, -1.39105829,  2.48561393, -3.08755705,  3.60934498,\n",
       "       -2.13114111,  2.01898883, -0.42291321, -0.55797957, -0.57967901,\n",
       "        3.06140465,  1.18164489,  3.21044718, -3.62990142,  2.47556852,\n",
       "        0.14814194, -1.5664538 ,  3.22597025,  3.09919514,  0.32363778,\n",
       "        1.05851485, -1.64890169,  2.1065256 , -0.38879911, -2.72306879,\n",
       "        2.43626455,  1.05526266, -2.62586773,  3.62457897,  2.38710963,\n",
       "        2.86839632, -2.32653399,  1.41966702,  2.6731389 , -0.40650984,\n",
       "       -3.32019326,  3.14049991,  1.11295143, -3.2587443 , -3.96071044,\n",
       "       -2.92852053, -0.97188096, -3.07929697, -0.4205196 ,  2.77286004,\n",
       "        1.59068651, -0.3807685 ,  1.765282  , -0.06307488,  0.20862194,\n",
       "       -2.35650561,  0.29154003,  1.89483794, -0.98928307, -1.51816374,\n",
       "        2.67745511, -2.84013319, -1.332593  , -0.94702574, -1.72683909,\n",
       "        3.58191606, -2.17218754,  0.16331415, -3.26537879,  3.85708695,\n",
       "       -2.51021726,  1.07342988,  1.72255394, -1.41407352, -3.25476611,\n",
       "        2.26968084, -1.72464745, -3.14527724,  0.92161789,  2.09843777,\n",
       "        2.03406965, -3.0918275 ,  3.22062071, -0.89599565, -0.94166687,\n",
       "        2.19012301, -1.71308324, -1.29106255, -0.07850801,  3.44567608,\n",
       "        1.62557286,  1.40666952,  3.68364744, -3.97792478,  3.1404097 ,\n",
       "       -3.01932783, -0.42701292,  1.71008572,  3.85133612,  2.46118327,\n",
       "        1.98552748,  0.28479474,  1.78755707,  0.88783973,  2.83762249,\n",
       "        3.76621566, -2.86560961,  0.98435332, -0.13153285, -3.78707847,\n",
       "        0.18969637,  0.07235625, -2.56366819, -1.79542146,  3.84527876,\n",
       "       -1.34714998,  2.76971428,  1.49127644,  1.07166456,  3.74307547,\n",
       "       -2.65157935,  2.24353271,  3.36881275, -0.17833717, -3.80990925,\n",
       "       -2.83589939,  1.12138951, -1.6546764 , -3.68018013, -2.65554823,\n",
       "        3.61082228,  2.2011086 ,  3.45851623,  0.2423534 ,  1.73885201,\n",
       "        2.8555168 ,  1.06226195,  2.69068745,  2.60646237, -0.38237309,\n",
       "        3.2876282 ,  1.84585339,  2.60072782,  1.58234448, -1.67463921,\n",
       "       -0.58851144,  2.91556271, -0.04388205, -3.99702174, -0.55447737,\n",
       "        0.27835116,  3.84901846,  0.2760546 ,  1.51924588, -2.07061467,\n",
       "        2.16009419, -2.67687077,  1.73258126, -0.29798915,  3.63793704,\n",
       "       -2.22129674,  3.21950188, -2.7331802 , -2.58563621, -0.09290118,\n",
       "        0.29558339,  1.78942851, -1.94045643,  2.99555141, -2.85163764,\n",
       "       -3.03946982, -3.40780358, -0.43382544, -3.65706364,  1.36583453,\n",
       "        3.86446554, -3.69795842,  3.69777788, -1.31284061,  0.24589491,\n",
       "        1.26659883, -3.67671683, -3.92162485, -3.60579853,  2.73868965,\n",
       "        1.01334358,  2.61557619,  3.4243433 ,  3.40848207, -3.7851808 ,\n",
       "        1.02022635, -1.61183852, -2.09782309,  3.60608126,  0.25072056,\n",
       "       -0.99422886, -1.3385022 ,  2.98268447,  1.9051364 ,  2.25514221,\n",
       "        1.7432748 , -3.41249656,  1.18874683,  1.68506437,  3.11532421,\n",
       "       -1.70818382, -1.09120835, -0.50488248,  1.3163381 ,  0.06997979,\n",
       "       -1.2860957 , -1.53129275,  2.77446391,  2.26498974,  0.69569409,\n",
       "       -2.42018167,  2.3591071 , -3.41663364,  0.3425315 ,  1.39413741,\n",
       "       -2.23128942, -0.28820657,  3.44519701,  0.79355164,  3.40010693,\n",
       "        3.11819073,  0.39286377, -2.51347101,  2.11973343,  3.31480618,\n",
       "       -2.3975394 , -1.86251603,  0.09381114,  2.75973946,  3.90974385,\n",
       "       -0.47029684,  0.20384882,  2.63521855, -0.17049946,  1.53591883,\n",
       "        2.91302801, -1.76860527,  3.5592647 ,  1.75185685,  3.46439055,\n",
       "       -3.41751723,  2.64361338,  2.57004823,  3.07182762,  1.12953473,\n",
       "       -0.5502562 ,  0.16914434,  3.443369  ,  3.76714481, -3.1536382 ,\n",
       "        3.41982004,  1.55369347, -2.75682405,  2.91174134, -0.45154585,\n",
       "        0.24477747,  2.8552789 , -2.38244678,  3.25306709,  2.23740929,\n",
       "       -1.86413031, -3.20460226, -0.77797524,  3.49261968,  3.08955492,\n",
       "       -2.68006078, -0.24420071,  1.86818792, -1.96840209, -0.31088505,\n",
       "        3.48768294, -1.25953042,  1.53355852, -0.0449379 , -2.8260954 ,\n",
       "       -2.98837038,  0.23385653,  3.98926641,  0.68523238, -3.062774  ,\n",
       "        3.99374758,  1.04000709,  1.52174959, -3.44667803,  3.44743695,\n",
       "        1.67921075, -2.99395685,  0.17935444, -3.29489473, -1.04598935,\n",
       "       -1.66357692, -3.83203822,  3.57613436, -1.39821583, -2.59154478,\n",
       "        3.09424729, -0.35499466, -2.97301159, -1.20980502, -0.82937349,\n",
       "        3.87303201, -3.55728746,  2.95951537, -2.21194003,  0.75308582,\n",
       "        2.77535606, -2.22209439,  3.42852931, -2.71116331,  2.93607743,\n",
       "        1.48389885,  1.5671386 , -0.26688087, -1.57294779,  0.73845714,\n",
       "       -3.60622224,  2.72746881,  0.70570519, -2.29002406, -2.93162328,\n",
       "        0.74539907,  1.56520793, -1.10498101, -0.796645  ,  0.1905145 ,\n",
       "       -1.28452474, -0.28400119,  3.8079415 , -3.65173055, -1.55127332,\n",
       "        1.1832921 , -2.97821776, -2.72617879, -0.85431985,  3.2264773 ,\n",
       "        2.37738596,  2.29634712,  2.82614081,  1.02554329, -2.04134164,\n",
       "        2.32291793, -3.33478165, -0.63603315, -1.04220432,  1.35756735,\n",
       "       -3.35262338, -2.42386225,  2.72336631, -2.70628765, -3.06817465,\n",
       "        2.94808785, -0.84508369, -2.87731653, -2.66756485,  3.57659036,\n",
       "        1.21461688,  0.36852829,  2.90959833,  1.83698946, -1.59679874,\n",
       "        1.01795863,  2.52443952, -0.64710305,  2.17301284, -1.76918743,\n",
       "        0.98936794,  3.24842986, -2.38610961, -0.99726042, -1.03792522,\n",
       "       -2.72748195, -2.29820417,  1.2078679 , -2.53004453, -3.18282818,\n",
       "       -2.43423197, -0.87745175,  3.15059662, -1.46833102,  3.96724631,\n",
       "        1.96460397, -2.51429489, -3.37609323, -0.0895583 , -1.40549011,\n",
       "       -1.71505842,  3.90443441, -2.30127271,  1.01485131, -1.8002118 ,\n",
       "       -0.14831082,  3.43134463, -0.91333074,  3.5427823 ,  3.59894175,\n",
       "       -0.22498915,  3.39302036, -2.52472028,  3.18841668,  3.50213349,\n",
       "        2.48795402, -1.14462489,  3.54519772, -2.0020723 ,  0.97361237,\n",
       "        0.9067123 ,  1.88602541,  2.73001465,  2.99711607,  0.45347481,\n",
       "        0.52513845, -2.26805824,  3.12169439, -0.73065123, -1.9538786 ,\n",
       "       -1.21348007, -3.98276935,  1.86764615, -2.14721941,  2.49258708,\n",
       "        3.23134905,  0.45662088,  3.62029798, -2.10753913, -0.81958595])"
      ]
     },
     "execution_count": 4,
     "metadata": {},
     "output_type": "execute_result"
    }
   ],
   "source": [
    "x"
   ]
  },
  {
   "cell_type": "code",
   "execution_count": 5,
   "metadata": {},
   "outputs": [],
   "source": [
    "y=x+np.random.standard_normal(500)+2.5"
   ]
  },
  {
   "cell_type": "code",
   "execution_count": 6,
   "metadata": {},
   "outputs": [
    {
     "data": {
      "text/plain": [
       "array([ 2.98916786, -0.17028453,  0.74907075, -0.06015085, -1.12979102,\n",
       "        6.03839907,  4.813087  ,  4.16826825,  0.97973853,  4.12536298,\n",
       "        0.66002208,  2.14329701,  4.20344162,  6.13806989,  0.85731918,\n",
       "        2.24995566,  4.65728452,  2.37504157,  0.30201174,  6.72010571,\n",
       "       -2.36452745,  5.40610207,  1.17570137,  0.20714562,  6.1924589 ,\n",
       "        2.89256789, -0.16108803,  4.70729906,  1.91325149, -0.55448144,\n",
       "        1.69689743,  0.92674216,  6.84728641,  4.42258416,  1.82103942,\n",
       "        4.07774092,  4.57428739,  2.37092116, -2.20004906, -0.92057416,\n",
       "        5.87532016,  1.44361616,  0.58370874,  4.59062211,  0.51086415,\n",
       "        4.49714659,  1.80290031,  4.97309402, -0.52004222,  3.88656669,\n",
       "        1.0098736 ,  7.4236441 , -0.13353249,  4.79361291,  0.7233591 ,\n",
       "        3.37638974,  5.6578299 ,  3.91509808,  1.75802242,  1.79017115,\n",
       "        1.43491488,  2.4226725 ,  6.57551902,  6.44693381,  1.65385732,\n",
       "        3.8468032 ,  3.24443717,  2.85007356,  0.36364936,  3.75139773,\n",
       "       -0.70705045,  6.73410948,  3.94579982,  0.79558697,  4.95112478,\n",
       "        2.56396571,  1.93627063,  4.25594609, -0.37164976,  6.45942108,\n",
       "       -0.84585928,  3.51375444,  1.2838573 ,  1.82278074,  2.36438762,\n",
       "        6.53547047,  2.57827135,  6.87671414,  1.06746997,  5.01210907,\n",
       "        2.13393577, -0.01297613,  5.92077971,  7.03320842,  3.31478275,\n",
       "        2.45285231,  1.01465088,  6.61072806,  3.01020117, -0.35128876,\n",
       "        5.097754  ,  4.37688218,  1.54390428,  5.26172788,  5.47018306,\n",
       "        5.02061733, -0.09798581,  4.34530417,  4.06263963,  1.68537223,\n",
       "       -0.96523631,  4.70481966,  3.08948519,  0.01862085, -2.52724973,\n",
       "       -1.57376327,  0.89539509, -1.07179404,  0.45081651,  5.4796175 ,\n",
       "        4.98394589,  3.59443955,  4.52896134,  1.97468997,  2.25196554,\n",
       "       -0.2795685 ,  3.11965882,  6.61053163,  0.71206645,  1.39881172,\n",
       "        6.05847504, -1.67485959,  1.19714251,  0.41817031,  0.60816302,\n",
       "        6.2046472 ,  1.09450341,  4.81134451, -0.6606968 ,  7.06916602,\n",
       "       -2.68702431,  4.17564255,  3.83229178,  0.51525061,  0.03494663,\n",
       "        5.93934284,  0.45512725,  0.09423422,  2.49561765,  5.43307725,\n",
       "        3.4978485 ,  0.59034162,  7.14049169,  2.01880044,  0.63751913,\n",
       "        4.08184431,  1.32338819,  0.56239993,  0.57712219,  6.51323491,\n",
       "        4.6148862 ,  4.4667352 ,  4.6876741 , -1.54053111,  6.17009229,\n",
       "        0.69553803,  2.04625475,  3.94717996,  6.94763159,  5.4722963 ,\n",
       "        5.4494919 ,  3.12014796,  3.83811644,  4.01954036,  5.53374736,\n",
       "        6.78803716, -1.96851359,  4.03465206,  1.6818445 , -1.92585598,\n",
       "        1.57396263,  1.39410762, -0.01764905,  1.23212515,  5.35490737,\n",
       "       -0.12691087,  3.69299746,  4.85321229,  4.05319686,  5.96620958,\n",
       "        0.11774249,  5.70610584,  4.73197643,  2.57136746, -0.30783157,\n",
       "       -0.49516965,  3.43229201, -0.58190451, -3.65027555, -0.75947467,\n",
       "        5.07641486,  4.61720129,  5.85889763,  1.5228633 ,  6.05864564,\n",
       "        4.08042376,  2.94465811,  4.40043907,  5.92967997,  0.69020338,\n",
       "        5.54800342,  4.99407859,  3.72949474,  4.09984307,  1.82424106,\n",
       "        1.20171625,  4.23898273, -0.09536211, -2.10595848,  1.54537574,\n",
       "        2.60422601,  5.87181439,  2.00410519,  4.72787847,  1.06319197,\n",
       "        3.01686039, -0.80224801,  3.37430621,  0.72534368,  5.93961947,\n",
       "        0.47005625,  6.03552839, -0.68124513, -0.81506816,  1.73324359,\n",
       "        4.02289665,  4.72464319,  0.69514688,  6.0322788 ,  0.95782804,\n",
       "       -3.34102336, -0.5672821 ,  0.50143146, -2.75269851,  5.9873989 ,\n",
       "        4.99593278, -1.98801861,  6.60080407,  0.38984146,  1.96625247,\n",
       "        4.00039963, -0.45821087, -2.7183614 , -1.32800636,  7.25157794,\n",
       "        3.89928834,  5.69038188,  7.00743994,  6.37187079, -1.38461229,\n",
       "        2.95881529,  0.87656439, -1.12248624,  4.52191818,  2.90240985,\n",
       "        1.13958704,  1.01429719,  5.78719824,  3.9715186 ,  3.31875279,\n",
       "        5.83386107,  0.33401049,  4.08374576,  4.23929394,  4.95053662,\n",
       "        0.96039576,  1.67468154,  2.76797409,  3.36539166,  2.32182797,\n",
       "        1.46072144,  0.59014571,  5.84776625,  4.35523939,  3.72097445,\n",
       "        0.48813163,  3.39278008, -1.1929695 ,  2.40748489,  4.20085609,\n",
       "        0.16937374,  1.4197324 ,  6.50338596,  4.0754684 ,  6.61718884,\n",
       "        5.63453609,  2.30012159,  0.3110101 ,  6.78542969,  6.3320827 ,\n",
       "        1.11155316,  0.96740426,  1.25794353,  4.19773901,  6.16095071,\n",
       "        1.82918943,  0.47427149,  5.81098707,  0.7190118 ,  2.07142587,\n",
       "        6.30206951,  0.63218276,  8.09798054,  4.91625736,  4.37864769,\n",
       "       -0.59848596,  5.69135662,  5.0262772 ,  5.21651238,  4.49968363,\n",
       "        0.17708717,  2.17421767,  7.02781198,  6.91108646, -0.463546  ,\n",
       "        4.67542263,  4.35610925,  0.26487944,  3.68779613,  2.80724424,\n",
       "        2.54995939,  5.50062036,  1.13944485,  6.44066399,  4.94917632,\n",
       "        2.71145515,  0.26190742,  0.19414798,  5.8165886 ,  6.09124203,\n",
       "        1.1780474 ,  3.34591786,  3.05519405,  0.31950052,  2.41328677,\n",
       "        6.0816755 ,  0.21003447,  4.94251102,  2.22586644,  1.97888027,\n",
       "        0.3677832 ,  4.31799672,  6.81646528,  3.70070442,  1.19837263,\n",
       "        5.08415898,  3.11139256,  2.15382881, -0.07715772,  5.76529037,\n",
       "        4.09221119,  0.33995745,  3.66919765, -0.74494239,  1.38233623,\n",
       "        2.19365576, -0.65121944,  7.08489359,  0.40254195,  0.46156235,\n",
       "        5.09383797,  1.63465143, -0.53844728,  1.50155646,  2.22767443,\n",
       "        6.57434688, -2.9312923 ,  5.01961903,  1.55127582,  4.3941274 ,\n",
       "        5.60819673,  0.12270977,  5.0366772 , -0.96552462,  5.33893902,\n",
       "        4.95018451,  3.62707493,  2.80441877,  1.43022187,  3.22177649,\n",
       "       -3.03885   ,  4.54156517,  4.28164056,  2.43417664,  0.83500643,\n",
       "        3.75514119,  1.91233802,  0.33313591,  2.15170274,  3.98736632,\n",
       "       -0.32682824,  2.53984813,  6.48495038, -1.69630527, -0.15995279,\n",
       "        4.49742539,  0.3704299 ,  0.48439225, -0.89414509,  4.44523811,\n",
       "        4.62602516,  5.8292458 ,  3.76194552,  2.31618048,  1.02040567,\n",
       "        5.21483349,  0.65490989,  3.02503337,  1.70880616,  5.30044734,\n",
       "       -0.52037556,  0.09211914,  6.74716071,  0.56739928, -1.14450342,\n",
       "        5.18165774,  1.95934978,  0.91312782,  0.9900768 ,  5.85758975,\n",
       "        3.35588463,  3.05387699,  5.12050641,  5.46390688,  1.44370311,\n",
       "        3.86817316,  4.58561845,  3.12151999,  5.03061363,  0.74507265,\n",
       "        3.92925703,  5.23092298,  0.25943897,  1.51658576,  0.18659999,\n",
       "       -1.09744176,  0.76572997,  2.39892354,  0.16918959, -1.26759146,\n",
       "       -0.78145726,  2.00968272,  6.51095377,  1.47270379,  4.14185167,\n",
       "        3.77048314,  0.29237719, -1.75927854,  3.32796729,  1.48544323,\n",
       "        1.7367547 ,  6.69122346,  2.08501136,  4.71697475,  0.67448187,\n",
       "        3.12517979,  6.96000067,  1.82876296,  6.58616256,  7.06639797,\n",
       "        0.67680282,  5.69363957, -1.71451831,  7.71214844,  5.60759207,\n",
       "        5.27498243,  1.86675806,  7.03950149,  1.14400415,  3.30552882,\n",
       "        3.53995734,  2.11347454,  4.78000961,  5.87248435,  2.88284982,\n",
       "        2.17237536,  0.82961742,  5.86370767,  2.19232883, -0.39184027,\n",
       "       -0.12900559, -3.26543523,  4.78364263,  1.14937487,  5.94142043,\n",
       "        4.45866872,  3.35498097,  6.69068849,  0.3793819 ,  1.2990536 ])"
      ]
     },
     "execution_count": 6,
     "metadata": {},
     "output_type": "execute_result"
    }
   ],
   "source": [
    "y"
   ]
  },
  {
   "cell_type": "code",
   "execution_count": 7,
   "metadata": {},
   "outputs": [
    {
     "data": {
      "text/plain": [
       "500"
      ]
     },
     "execution_count": 7,
     "metadata": {},
     "output_type": "execute_result"
    }
   ],
   "source": [
    "len(x)"
   ]
  },
  {
   "cell_type": "code",
   "execution_count": 8,
   "metadata": {},
   "outputs": [
    {
     "data": {
      "text/plain": [
       "500"
      ]
     },
     "execution_count": 8,
     "metadata": {},
     "output_type": "execute_result"
    }
   ],
   "source": [
    "len(y)"
   ]
  },
  {
   "cell_type": "code",
   "execution_count": 9,
   "metadata": {},
   "outputs": [
    {
     "data": {
      "text/plain": [
       "-3.9970217437207998"
      ]
     },
     "execution_count": 9,
     "metadata": {},
     "output_type": "execute_result"
    }
   ],
   "source": [
    "min(x)"
   ]
  },
  {
   "cell_type": "code",
   "execution_count": 10,
   "metadata": {},
   "outputs": [
    {
     "data": {
      "text/plain": [
       "3.9937475786730783"
      ]
     },
     "execution_count": 10,
     "metadata": {},
     "output_type": "execute_result"
    }
   ],
   "source": [
    "max(x)"
   ]
  },
  {
   "cell_type": "code",
   "execution_count": 11,
   "metadata": {},
   "outputs": [
    {
     "data": {
      "text/plain": [
       "8.09798054425125"
      ]
     },
     "execution_count": 11,
     "metadata": {},
     "output_type": "execute_result"
    }
   ],
   "source": [
    "max(y)"
   ]
  },
  {
   "cell_type": "code",
   "execution_count": 12,
   "metadata": {},
   "outputs": [
    {
     "data": {
      "text/plain": [
       "-3.6502755517190018"
      ]
     },
     "execution_count": 12,
     "metadata": {},
     "output_type": "execute_result"
    }
   ],
   "source": [
    "min(y)"
   ]
  },
  {
   "cell_type": "code",
   "execution_count": 15,
   "metadata": {},
   "outputs": [
    {
     "data": {
      "text/plain": [
       "[<matplotlib.lines.Line2D at 0x15e9f4edeb0>]"
      ]
     },
     "execution_count": 15,
     "metadata": {},
     "output_type": "execute_result"
    },
    {
     "data": {
      "image/png": "[encoded data removed]",
      "text/plain": [
       "<Figure size 432x288 with 1 Axes>"
      ]
     },
     "metadata": {},
     "output_type": "display_data"
    }
   ],
   "source": [
    "plt.plot(x,y,\"o\")   # it has linear in nature and it is directly proportional"
   ]
  },
  {
   "cell_type": "code",
   "execution_count": 18,
   "metadata": {},
   "outputs": [
    {
     "ename": "ValueError",
     "evalue": "Expected 2D array, got 1D array instead:\narray=[ 0.20045942 -2.46287126 -2.18661961 -2.44779053 -3.58256369  3.81254301\n  1.81352097  0.91990564 -0.86895718  0.35077128 -1.08904688 -0.18774315\n  1.67435973  3.5107754  -2.73855941 -1.95105619  2.42787048 -1.17832433\n -0.88355281  3.8452908  -3.14654916  3.13870528 -1.97729404 -2.89234825\n  3.03825959  0.71042141 -2.50469424  2.42539187 -1.03625893 -3.7502201\n -0.28026164 -0.35369716  2.72499414  1.2889783   0.28347436  0.25386725\n -0.22931063 -1.5192919  -3.89203045 -2.45769642  3.22548433 -0.85603207\n -3.10914741  2.36369316 -1.24719709  2.22973828 -1.71980515  0.65616909\n -1.55813242  0.28800142 -2.43355074  3.61887541 -1.77132773  0.75516394\n -1.70468506  0.7840393   1.10414467 -0.77233202  0.54548897 -1.71363466\n -1.76040945  1.55117113  3.71365141  2.75744512  1.06632374  0.82030543\n  2.27577464  0.26092686 -1.54306486  1.92400244 -3.94053547  1.87428094\n  1.14750437 -2.81779592  3.84684314 -0.09876244 -1.39105829  2.48561393\n -3.08755705  3.60934498 -2.13114111  2.01898883 -0.42291321 -0.55797957\n -0.57967901  3.06140465  1.18164489  3.21044718 -3.62990142  2.47556852\n  0.14814194 -1.5664538   3.22597025  3.09919514  0.32363778  1.05851485\n -1.64890169  2.1065256  -0.38879911 -2.72306879  2.43626455  1.05526266\n -2.62586773  3.62457897  2.38710963  2.86839632 -2.32653399  1.41966702\n  2.6731389  -0.40650984 -3.32019326  3.14049991  1.11295143 -3.2587443\n -3.96071044 -2.92852053 -0.97188096 -3.07929697 -0.4205196   2.77286004\n  1.59068651 -0.3807685   1.765282   -0.06307488  0.20862194 -2.35650561\n  0.29154003  1.89483794 -0.98928307 -1.51816374  2.67745511 -2.84013319\n -1.332593   -0.94702574 -1.72683909  3.58191606 -2.17218754  0.16331415\n -3.26537879  3.85708695 -2.51021726  1.07342988  1.72255394 -1.41407352\n -3.25476611  2.26968084 -1.72464745 -3.14527724  0.92161789  2.09843777\n  2.03406965 -3.0918275   3.22062071 -0.89599565 -0.94166687  2.19012301\n -1.71308324 -1.29106255 -0.07850801  3.44567608  1.62557286  1.40666952\n  3.68364744 -3.97792478  3.1404097  -3.01932783 -0.42701292  1.71008572\n  3.85133612  2.46118327  1.98552748  0.28479474  1.78755707  0.88783973\n  2.83762249  3.76621566 -2.86560961  0.98435332 -0.13153285 -3.78707847\n  0.18969637  0.07235625 -2.56366819 -1.79542146  3.84527876 -1.34714998\n  2.76971428  1.49127644  1.07166456  3.74307547 -2.65157935  2.24353271\n  3.36881275 -0.17833717 -3.80990925 -2.83589939  1.12138951 -1.6546764\n -3.68018013 -2.65554823  3.61082228  2.2011086   3.45851623  0.2423534\n  1.73885201  2.8555168   1.06226195  2.69068745  2.60646237 -0.38237309\n  3.2876282   1.84585339  2.60072782  1.58234448 -1.67463921 -0.58851144\n  2.91556271 -0.04388205 -3.99702174 -0.55447737  0.27835116  3.84901846\n  0.2760546   1.51924588 -2.07061467  2.16009419 -2.67687077  1.73258126\n -0.29798915  3.63793704 -2.22129674  3.21950188 -2.7331802  -2.58563621\n -0.09290118  0.29558339  1.78942851 -1.94045643  2.99555141 -2.85163764\n -3.03946982 -3.40780358 -0.43382544 -3.65706364  1.36583453  3.86446554\n -3.69795842  3.69777788 -1.31284061  0.24589491  1.26659883 -3.67671683\n -3.92162485 -3.60579853  2.73868965  1.01334358  2.61557619  3.4243433\n  3.40848207 -3.7851808   1.02022635 -1.61183852 -2.09782309  3.60608126\n  0.25072056 -0.99422886 -1.3385022   2.98268447  1.9051364   2.25514221\n  1.7432748  -3.41249656  1.18874683  1.68506437  3.11532421 -1.70818382\n -1.09120835 -0.50488248  1.3163381   0.06997979 -1.2860957  -1.53129275\n  2.77446391  2.26498974  0.69569409 -2.42018167  2.3591071  -3.41663364\n  0.3425315   1.39413741 -2.23128942 -0.28820657  3.44519701  0.79355164\n  3.40010693  3.11819073  0.39286377 -2.51347101  2.11973343  3.31480618\n -2.3975394  -1.86251603  0.09381114  2.75973946  3.90974385 -0.47029684\n  0.20384882  2.63521855 -0.17049946  1.53591883  2.91302801 -1.76860527\n  3.5592647   1.75185685  3.46439055 -3.41751723  2.64361338  2.57004823\n  3.07182762  1.12953473 -0.5502562   0.16914434  3.443369    3.76714481\n -3.1536382   3.41982004  1.55369347 -2.75682405  2.91174134 -0.45154585\n  0.24477747  2.8552789  -2.38244678  3.25306709  2.23740929 -1.86413031\n -3.20460226 -0.77797524  3.49261968  3.08955492 -2.68006078 -0.24420071\n  1.86818792 -1.96840209 -0.31088505  3.48768294 -1.25953042  1.53355852\n -0.0449379  -2.8260954  -2.98837038  0.23385653  3.98926641  0.68523238\n -3.062774    3.99374758  1.04000709  1.52174959 -3.44667803  3.44743695\n  1.67921075 -2.99395685  0.17935444 -3.29489473 -1.04598935 -1.66357692\n -3.83203822  3.57613436 -1.39821583 -2.59154478  3.09424729 -0.35499466\n -2.97301159 -1.20980502 -0.82937349  3.87303201 -3.55728746  2.95951537\n -2.21194003  0.75308582  2.77535606 -2.22209439  3.42852931 -2.71116331\n  2.93607743  1.48389885  1.5671386  -0.26688087 -1.57294779  0.73845714\n -3.60622224  2.72746881  0.70570519 -2.29002406 -2.93162328  0.74539907\n  1.56520793 -1.10498101 -0.796645    0.1905145  -1.28452474 -0.28400119\n  3.8079415  -3.65173055 -1.55127332  1.1832921  -2.97821776 -2.72617879\n -0.85431985  3.2264773   2.37738596  2.29634712  2.82614081  1.02554329\n -2.04134164  2.32291793 -3.33478165 -0.63603315 -1.04220432  1.35756735\n -3.35262338 -2.42386225  2.72336631 -2.70628765 -3.06817465  2.94808785\n -0.84508369 -2.87731653 -2.66756485  3.57659036  1.21461688  0.36852829\n  2.90959833  1.83698946 -1.59679874  1.01795863  2.52443952 -0.64710305\n  2.17301284 -1.76918743  0.98936794  3.24842986 -2.38610961 -0.99726042\n -1.03792522 -2.72748195 -2.29820417  1.2078679  -2.53004453 -3.18282818\n -2.43423197 -0.87745175  3.15059662 -1.46833102  3.96724631  1.96460397\n -2.51429489 -3.37609323 -0.0895583  -1.40549011 -1.71505842  3.90443441\n -2.30127271  1.01485131 -1.8002118  -0.14831082  3.43134463 -0.91333074\n  3.5427823   3.59894175 -0.22498915  3.39302036 -2.52472028  3.18841668\n  3.50213349  2.48795402 -1.14462489  3.54519772 -2.0020723   0.97361237\n  0.9067123   1.88602541  2.73001465  2.99711607  0.45347481  0.52513845\n -2.26805824  3.12169439 -0.73065123 -1.9538786  -1.21348007 -3.98276935\n  1.86764615 -2.14721941  2.49258708  3.23134905  0.45662088  3.62029798\n -2.10753913 -0.81958595].\nReshape your data either using array.reshape(-1, 1) if your data has a single feature or array.reshape(1, -1) if it contains a single sample.",
     "output_type": "error",
     "traceback": [
      "\u001b[1;31m---------------------------------------------------------------------------\u001b[0m",
      "\u001b[1;31mValueError\u001b[0m                                Traceback (most recent call last)",
      "\u001b[1;32m<ipython-input-18-3ea9c74d70cf>\u001b[0m in \u001b[0;36m<module>\u001b[1;34m\u001b[0m\n\u001b[0;32m      1\u001b[0m \u001b[1;32mfrom\u001b[0m \u001b[0msklearn\u001b[0m\u001b[1;33m.\u001b[0m\u001b[0mlinear_model\u001b[0m \u001b[1;32mimport\u001b[0m \u001b[0mLinearRegression\u001b[0m\u001b[1;33m\u001b[0m\u001b[1;33m\u001b[0m\u001b[0m\n\u001b[0;32m      2\u001b[0m \u001b[0mlr\u001b[0m\u001b[1;33m=\u001b[0m\u001b[0mLinearRegression\u001b[0m\u001b[1;33m(\u001b[0m\u001b[1;33m)\u001b[0m\u001b[1;33m\u001b[0m\u001b[1;33m\u001b[0m\u001b[0m\n\u001b[1;32m----> 3\u001b[1;33m \u001b[0mlr\u001b[0m\u001b[1;33m.\u001b[0m\u001b[0mfit\u001b[0m\u001b[1;33m(\u001b[0m\u001b[0mx\u001b[0m\u001b[1;33m,\u001b[0m\u001b[0my\u001b[0m\u001b[1;33m)\u001b[0m\u001b[1;33m\u001b[0m\u001b[1;33m\u001b[0m\u001b[0m\n\u001b[0m",
      "\u001b[1;32m~\\anaconda3\\lib\\site-packages\\sklearn\\linear_model\\_base.py\u001b[0m in \u001b[0;36mfit\u001b[1;34m(self, X, y, sample_weight)\u001b[0m\n\u001b[0;32m    503\u001b[0m \u001b[1;33m\u001b[0m\u001b[0m\n\u001b[0;32m    504\u001b[0m         \u001b[0mn_jobs_\u001b[0m \u001b[1;33m=\u001b[0m \u001b[0mself\u001b[0m\u001b[1;33m.\u001b[0m\u001b[0mn_jobs\u001b[0m\u001b[1;33m\u001b[0m\u001b[1;33m\u001b[0m\u001b[0m\n\u001b[1;32m--> 505\u001b[1;33m         X, y = self._validate_data(X, y, accept_sparse=['csr', 'csc', 'coo'],\n\u001b[0m\u001b[0;32m    506\u001b[0m                                    y_numeric=True, multi_output=True)\n\u001b[0;32m    507\u001b[0m \u001b[1;33m\u001b[0m\u001b[0m\n",
      "\u001b[1;32m~\\anaconda3\\lib\\site-packages\\sklearn\\base.py\u001b[0m in \u001b[0;36m_validate_data\u001b[1;34m(self, X, y, reset, validate_separately, **check_params)\u001b[0m\n\u001b[0;32m    430\u001b[0m                 \u001b[0my\u001b[0m \u001b[1;33m=\u001b[0m \u001b[0mcheck_array\u001b[0m\u001b[1;33m(\u001b[0m\u001b[0my\u001b[0m\u001b[1;33m,\u001b[0m \u001b[1;33m**\u001b[0m\u001b[0mcheck_y_params\u001b[0m\u001b[1;33m)\u001b[0m\u001b[1;33m\u001b[0m\u001b[1;33m\u001b[0m\u001b[0m\n\u001b[0;32m    431\u001b[0m             \u001b[1;32melse\u001b[0m\u001b[1;33m:\u001b[0m\u001b[1;33m\u001b[0m\u001b[1;33m\u001b[0m\u001b[0m\n\u001b[1;32m--> 432\u001b[1;33m                 \u001b[0mX\u001b[0m\u001b[1;33m,\u001b[0m \u001b[0my\u001b[0m \u001b[1;33m=\u001b[0m \u001b[0mcheck_X_y\u001b[0m\u001b[1;33m(\u001b[0m\u001b[0mX\u001b[0m\u001b[1;33m,\u001b[0m \u001b[0my\u001b[0m\u001b[1;33m,\u001b[0m \u001b[1;33m**\u001b[0m\u001b[0mcheck_params\u001b[0m\u001b[1;33m)\u001b[0m\u001b[1;33m\u001b[0m\u001b[1;33m\u001b[0m\u001b[0m\n\u001b[0m\u001b[0;32m    433\u001b[0m             \u001b[0mout\u001b[0m \u001b[1;33m=\u001b[0m \u001b[0mX\u001b[0m\u001b[1;33m,\u001b[0m \u001b[0my\u001b[0m\u001b[1;33m\u001b[0m\u001b[1;33m\u001b[0m\u001b[0m\n\u001b[0;32m    434\u001b[0m \u001b[1;33m\u001b[0m\u001b[0m\n",
      "\u001b[1;32m~\\anaconda3\\lib\\site-packages\\sklearn\\utils\\validation.py\u001b[0m in \u001b[0;36minner_f\u001b[1;34m(*args, **kwargs)\u001b[0m\n\u001b[0;32m     71\u001b[0m                           FutureWarning)\n\u001b[0;32m     72\u001b[0m         \u001b[0mkwargs\u001b[0m\u001b[1;33m.\u001b[0m\u001b[0mupdate\u001b[0m\u001b[1;33m(\u001b[0m\u001b[1;33m{\u001b[0m\u001b[0mk\u001b[0m\u001b[1;33m:\u001b[0m \u001b[0marg\u001b[0m \u001b[1;32mfor\u001b[0m \u001b[0mk\u001b[0m\u001b[1;33m,\u001b[0m \u001b[0marg\u001b[0m \u001b[1;32min\u001b[0m \u001b[0mzip\u001b[0m\u001b[1;33m(\u001b[0m\u001b[0msig\u001b[0m\u001b[1;33m.\u001b[0m\u001b[0mparameters\u001b[0m\u001b[1;33m,\u001b[0m \u001b[0margs\u001b[0m\u001b[1;33m)\u001b[0m\u001b[1;33m}\u001b[0m\u001b[1;33m)\u001b[0m\u001b[1;33m\u001b[0m\u001b[1;33m\u001b[0m\u001b[0m\n\u001b[1;32m---> 73\u001b[1;33m         \u001b[1;32mreturn\u001b[0m \u001b[0mf\u001b[0m\u001b[1;33m(\u001b[0m\u001b[1;33m**\u001b[0m\u001b[0mkwargs\u001b[0m\u001b[1;33m)\u001b[0m\u001b[1;33m\u001b[0m\u001b[1;33m\u001b[0m\u001b[0m\n\u001b[0m\u001b[0;32m     74\u001b[0m     \u001b[1;32mreturn\u001b[0m \u001b[0minner_f\u001b[0m\u001b[1;33m\u001b[0m\u001b[1;33m\u001b[0m\u001b[0m\n\u001b[0;32m     75\u001b[0m \u001b[1;33m\u001b[0m\u001b[0m\n",
      "\u001b[1;32m~\\anaconda3\\lib\\site-packages\\sklearn\\utils\\validation.py\u001b[0m in \u001b[0;36mcheck_X_y\u001b[1;34m(X, y, accept_sparse, accept_large_sparse, dtype, order, copy, force_all_finite, ensure_2d, allow_nd, multi_output, ensure_min_samples, ensure_min_features, y_numeric, estimator)\u001b[0m\n\u001b[0;32m    794\u001b[0m         \u001b[1;32mraise\u001b[0m \u001b[0mValueError\u001b[0m\u001b[1;33m(\u001b[0m\u001b[1;34m\"y cannot be None\"\u001b[0m\u001b[1;33m)\u001b[0m\u001b[1;33m\u001b[0m\u001b[1;33m\u001b[0m\u001b[0m\n\u001b[0;32m    795\u001b[0m \u001b[1;33m\u001b[0m\u001b[0m\n\u001b[1;32m--> 796\u001b[1;33m     X = check_array(X, accept_sparse=accept_sparse,\n\u001b[0m\u001b[0;32m    797\u001b[0m                     \u001b[0maccept_large_sparse\u001b[0m\u001b[1;33m=\u001b[0m\u001b[0maccept_large_sparse\u001b[0m\u001b[1;33m,\u001b[0m\u001b[1;33m\u001b[0m\u001b[1;33m\u001b[0m\u001b[0m\n\u001b[0;32m    798\u001b[0m                     \u001b[0mdtype\u001b[0m\u001b[1;33m=\u001b[0m\u001b[0mdtype\u001b[0m\u001b[1;33m,\u001b[0m \u001b[0morder\u001b[0m\u001b[1;33m=\u001b[0m\u001b[0morder\u001b[0m\u001b[1;33m,\u001b[0m \u001b[0mcopy\u001b[0m\u001b[1;33m=\u001b[0m\u001b[0mcopy\u001b[0m\u001b[1;33m,\u001b[0m\u001b[1;33m\u001b[0m\u001b[1;33m\u001b[0m\u001b[0m\n",
      "\u001b[1;32m~\\anaconda3\\lib\\site-packages\\sklearn\\utils\\validation.py\u001b[0m in \u001b[0;36minner_f\u001b[1;34m(*args, **kwargs)\u001b[0m\n\u001b[0;32m     71\u001b[0m                           FutureWarning)\n\u001b[0;32m     72\u001b[0m         \u001b[0mkwargs\u001b[0m\u001b[1;33m.\u001b[0m\u001b[0mupdate\u001b[0m\u001b[1;33m(\u001b[0m\u001b[1;33m{\u001b[0m\u001b[0mk\u001b[0m\u001b[1;33m:\u001b[0m \u001b[0marg\u001b[0m \u001b[1;32mfor\u001b[0m \u001b[0mk\u001b[0m\u001b[1;33m,\u001b[0m \u001b[0marg\u001b[0m \u001b[1;32min\u001b[0m \u001b[0mzip\u001b[0m\u001b[1;33m(\u001b[0m\u001b[0msig\u001b[0m\u001b[1;33m.\u001b[0m\u001b[0mparameters\u001b[0m\u001b[1;33m,\u001b[0m \u001b[0margs\u001b[0m\u001b[1;33m)\u001b[0m\u001b[1;33m}\u001b[0m\u001b[1;33m)\u001b[0m\u001b[1;33m\u001b[0m\u001b[1;33m\u001b[0m\u001b[0m\n\u001b[1;32m---> 73\u001b[1;33m         \u001b[1;32mreturn\u001b[0m \u001b[0mf\u001b[0m\u001b[1;33m(\u001b[0m\u001b[1;33m**\u001b[0m\u001b[0mkwargs\u001b[0m\u001b[1;33m)\u001b[0m\u001b[1;33m\u001b[0m\u001b[1;33m\u001b[0m\u001b[0m\n\u001b[0m\u001b[0;32m     74\u001b[0m     \u001b[1;32mreturn\u001b[0m \u001b[0minner_f\u001b[0m\u001b[1;33m\u001b[0m\u001b[1;33m\u001b[0m\u001b[0m\n\u001b[0;32m     75\u001b[0m \u001b[1;33m\u001b[0m\u001b[0m\n",
      "\u001b[1;32m~\\anaconda3\\lib\\site-packages\\sklearn\\utils\\validation.py\u001b[0m in \u001b[0;36mcheck_array\u001b[1;34m(array, accept_sparse, accept_large_sparse, dtype, order, copy, force_all_finite, ensure_2d, allow_nd, ensure_min_samples, ensure_min_features, estimator)\u001b[0m\n\u001b[0;32m    618\u001b[0m             \u001b[1;31m# If input is 1D raise error\u001b[0m\u001b[1;33m\u001b[0m\u001b[1;33m\u001b[0m\u001b[1;33m\u001b[0m\u001b[0m\n\u001b[0;32m    619\u001b[0m             \u001b[1;32mif\u001b[0m \u001b[0marray\u001b[0m\u001b[1;33m.\u001b[0m\u001b[0mndim\u001b[0m \u001b[1;33m==\u001b[0m \u001b[1;36m1\u001b[0m\u001b[1;33m:\u001b[0m\u001b[1;33m\u001b[0m\u001b[1;33m\u001b[0m\u001b[0m\n\u001b[1;32m--> 620\u001b[1;33m                 raise ValueError(\n\u001b[0m\u001b[0;32m    621\u001b[0m                     \u001b[1;34m\"Expected 2D array, got 1D array instead:\\narray={}.\\n\"\u001b[0m\u001b[1;33m\u001b[0m\u001b[1;33m\u001b[0m\u001b[0m\n\u001b[0;32m    622\u001b[0m                     \u001b[1;34m\"Reshape your data either using array.reshape(-1, 1) if \"\u001b[0m\u001b[1;33m\u001b[0m\u001b[1;33m\u001b[0m\u001b[0m\n",
      "\u001b[1;31mValueError\u001b[0m: Expected 2D array, got 1D array instead:\narray=[ 0.20045942 -2.46287126 -2.18661961 -2.44779053 -3.58256369  3.81254301\n  1.81352097  0.91990564 -0.86895718  0.35077128 -1.08904688 -0.18774315\n  1.67435973  3.5107754  -2.73855941 -1.95105619  2.42787048 -1.17832433\n -0.88355281  3.8452908  -3.14654916  3.13870528 -1.97729404 -2.89234825\n  3.03825959  0.71042141 -2.50469424  2.42539187 -1.03625893 -3.7502201\n -0.28026164 -0.35369716  2.72499414  1.2889783   0.28347436  0.25386725\n -0.22931063 -1.5192919  -3.89203045 -2.45769642  3.22548433 -0.85603207\n -3.10914741  2.36369316 -1.24719709  2.22973828 -1.71980515  0.65616909\n -1.55813242  0.28800142 -2.43355074  3.61887541 -1.77132773  0.75516394\n -1.70468506  0.7840393   1.10414467 -0.77233202  0.54548897 -1.71363466\n -1.76040945  1.55117113  3.71365141  2.75744512  1.06632374  0.82030543\n  2.27577464  0.26092686 -1.54306486  1.92400244 -3.94053547  1.87428094\n  1.14750437 -2.81779592  3.84684314 -0.09876244 -1.39105829  2.48561393\n -3.08755705  3.60934498 -2.13114111  2.01898883 -0.42291321 -0.55797957\n -0.57967901  3.06140465  1.18164489  3.21044718 -3.62990142  2.47556852\n  0.14814194 -1.5664538   3.22597025  3.09919514  0.32363778  1.05851485\n -1.64890169  2.1065256  -0.38879911 -2.72306879  2.43626455  1.05526266\n -2.62586773  3.62457897  2.38710963  2.86839632 -2.32653399  1.41966702\n  2.6731389  -0.40650984 -3.32019326  3.14049991  1.11295143 -3.2587443\n -3.96071044 -2.92852053 -0.97188096 -3.07929697 -0.4205196   2.77286004\n  1.59068651 -0.3807685   1.765282   -0.06307488  0.20862194 -2.35650561\n  0.29154003  1.89483794 -0.98928307 -1.51816374  2.67745511 -2.84013319\n -1.332593   -0.94702574 -1.72683909  3.58191606 -2.17218754  0.16331415\n -3.26537879  3.85708695 -2.51021726  1.07342988  1.72255394 -1.41407352\n -3.25476611  2.26968084 -1.72464745 -3.14527724  0.92161789  2.09843777\n  2.03406965 -3.0918275   3.22062071 -0.89599565 -0.94166687  2.19012301\n -1.71308324 -1.29106255 -0.07850801  3.44567608  1.62557286  1.40666952\n  3.68364744 -3.97792478  3.1404097  -3.01932783 -0.42701292  1.71008572\n  3.85133612  2.46118327  1.98552748  0.28479474  1.78755707  0.88783973\n  2.83762249  3.76621566 -2.86560961  0.98435332 -0.13153285 -3.78707847\n  0.18969637  0.07235625 -2.56366819 -1.79542146  3.84527876 -1.34714998\n  2.76971428  1.49127644  1.07166456  3.74307547 -2.65157935  2.24353271\n  3.36881275 -0.17833717 -3.80990925 -2.83589939  1.12138951 -1.6546764\n -3.68018013 -2.65554823  3.61082228  2.2011086   3.45851623  0.2423534\n  1.73885201  2.8555168   1.06226195  2.69068745  2.60646237 -0.38237309\n  3.2876282   1.84585339  2.60072782  1.58234448 -1.67463921 -0.58851144\n  2.91556271 -0.04388205 -3.99702174 -0.55447737  0.27835116  3.84901846\n  0.2760546   1.51924588 -2.07061467  2.16009419 -2.67687077  1.73258126\n -0.29798915  3.63793704 -2.22129674  3.21950188 -2.7331802  -2.58563621\n -0.09290118  0.29558339  1.78942851 -1.94045643  2.99555141 -2.85163764\n -3.03946982 -3.40780358 -0.43382544 -3.65706364  1.36583453  3.86446554\n -3.69795842  3.69777788 -1.31284061  0.24589491  1.26659883 -3.67671683\n -3.92162485 -3.60579853  2.73868965  1.01334358  2.61557619  3.4243433\n  3.40848207 -3.7851808   1.02022635 -1.61183852 -2.09782309  3.60608126\n  0.25072056 -0.99422886 -1.3385022   2.98268447  1.9051364   2.25514221\n  1.7432748  -3.41249656  1.18874683  1.68506437  3.11532421 -1.70818382\n -1.09120835 -0.50488248  1.3163381   0.06997979 -1.2860957  -1.53129275\n  2.77446391  2.26498974  0.69569409 -2.42018167  2.3591071  -3.41663364\n  0.3425315   1.39413741 -2.23128942 -0.28820657  3.44519701  0.79355164\n  3.40010693  3.11819073  0.39286377 -2.51347101  2.11973343  3.31480618\n -2.3975394  -1.86251603  0.09381114  2.75973946  3.90974385 -0.47029684\n  0.20384882  2.63521855 -0.17049946  1.53591883  2.91302801 -1.76860527\n  3.5592647   1.75185685  3.46439055 -3.41751723  2.64361338  2.57004823\n  3.07182762  1.12953473 -0.5502562   0.16914434  3.443369    3.76714481\n -3.1536382   3.41982004  1.55369347 -2.75682405  2.91174134 -0.45154585\n  0.24477747  2.8552789  -2.38244678  3.25306709  2.23740929 -1.86413031\n -3.20460226 -0.77797524  3.49261968  3.08955492 -2.68006078 -0.24420071\n  1.86818792 -1.96840209 -0.31088505  3.48768294 -1.25953042  1.53355852\n -0.0449379  -2.8260954  -2.98837038  0.23385653  3.98926641  0.68523238\n -3.062774    3.99374758  1.04000709  1.52174959 -3.44667803  3.44743695\n  1.67921075 -2.99395685  0.17935444 -3.29489473 -1.04598935 -1.66357692\n -3.83203822  3.57613436 -1.39821583 -2.59154478  3.09424729 -0.35499466\n -2.97301159 -1.20980502 -0.82937349  3.87303201 -3.55728746  2.95951537\n -2.21194003  0.75308582  2.77535606 -2.22209439  3.42852931 -2.71116331\n  2.93607743  1.48389885  1.5671386  -0.26688087 -1.57294779  0.73845714\n -3.60622224  2.72746881  0.70570519 -2.29002406 -2.93162328  0.74539907\n  1.56520793 -1.10498101 -0.796645    0.1905145  -1.28452474 -0.28400119\n  3.8079415  -3.65173055 -1.55127332  1.1832921  -2.97821776 -2.72617879\n -0.85431985  3.2264773   2.37738596  2.29634712  2.82614081  1.02554329\n -2.04134164  2.32291793 -3.33478165 -0.63603315 -1.04220432  1.35756735\n -3.35262338 -2.42386225  2.72336631 -2.70628765 -3.06817465  2.94808785\n -0.84508369 -2.87731653 -2.66756485  3.57659036  1.21461688  0.36852829\n  2.90959833  1.83698946 -1.59679874  1.01795863  2.52443952 -0.64710305\n  2.17301284 -1.76918743  0.98936794  3.24842986 -2.38610961 -0.99726042\n -1.03792522 -2.72748195 -2.29820417  1.2078679  -2.53004453 -3.18282818\n -2.43423197 -0.87745175  3.15059662 -1.46833102  3.96724631  1.96460397\n -2.51429489 -3.37609323 -0.0895583  -1.40549011 -1.71505842  3.90443441\n -2.30127271  1.01485131 -1.8002118  -0.14831082  3.43134463 -0.91333074\n  3.5427823   3.59894175 -0.22498915  3.39302036 -2.52472028  3.18841668\n  3.50213349  2.48795402 -1.14462489  3.54519772 -2.0020723   0.97361237\n  0.9067123   1.88602541  2.73001465  2.99711607  0.45347481  0.52513845\n -2.26805824  3.12169439 -0.73065123 -1.9538786  -1.21348007 -3.98276935\n  1.86764615 -2.14721941  2.49258708  3.23134905  0.45662088  3.62029798\n -2.10753913 -0.81958595].\nReshape your data either using array.reshape(-1, 1) if your data has a single feature or array.reshape(1, -1) if it contains a single sample."
     ]
    }
   ],
   "source": [
    "from sklearn.linear_model import LinearRegression\n",
    "lr=LinearRegression()\n",
    "lr.fit(x,y)"
   ]
  },
  {
   "cell_type": "code",
   "execution_count": null,
   "metadata": {},
   "outputs": [],
   "source": []
  },
  {
   "cell_type": "code",
   "execution_count": null,
   "metadata": {},
   "outputs": [],
   "source": []
  },
  {
   "cell_type": "code",
   "execution_count": 16,
   "metadata": {},
   "outputs": [],
   "source": [
    "hd=pd.read_excel(r\"E:\\ds course\\data sets\\prac data sets\\AirPassengers.xlsx\")"
   ]
  },
  {
   "cell_type": "code",
   "execution_count": 17,
   "metadata": {},
   "outputs": [
    {
     "data": {
      "text/html": [
       "<div>\n",
       "<style scoped>\n",
       "    .dataframe tbody tr th:only-of-type {\n",
       "        vertical-align: middle;\n",
       "    }\n",
       "\n",
       "    .dataframe tbody tr th {\n",
       "        vertical-align: top;\n",
       "    }\n",
       "\n",
       "    .dataframe thead th {\n",
       "        text-align: right;\n",
       "    }\n",
       "</style>\n",
       "<table border=\"1\" class=\"dataframe\">\n",
       "  <thead>\n",
       "    <tr style=\"text-align: right;\">\n",
       "      <th></th>\n",
       "      <th>Week_num</th>\n",
       "      <th>Passengers</th>\n",
       "      <th>Promotion_Budget</th>\n",
       "      <th>Service_Quality_Score</th>\n",
       "      <th>Holiday_week</th>\n",
       "      <th>Delayed_Cancelled_flight_ind</th>\n",
       "      <th>Inter_metro_flight_ratio</th>\n",
       "      <th>Bad_Weather_Ind</th>\n",
       "      <th>Technical_issues_ind</th>\n",
       "    </tr>\n",
       "  </thead>\n",
       "  <tbody>\n",
       "    <tr>\n",
       "      <th>0</th>\n",
       "      <td>1</td>\n",
       "      <td>37824</td>\n",
       "      <td>517356</td>\n",
       "      <td>4.00000</td>\n",
       "      <td>NO</td>\n",
       "      <td>NO</td>\n",
       "      <td>0.70</td>\n",
       "      <td>YES</td>\n",
       "      <td>YES</td>\n",
       "    </tr>\n",
       "    <tr>\n",
       "      <th>1</th>\n",
       "      <td>2</td>\n",
       "      <td>43936</td>\n",
       "      <td>646086</td>\n",
       "      <td>2.67466</td>\n",
       "      <td>NO</td>\n",
       "      <td>YES</td>\n",
       "      <td>0.80</td>\n",
       "      <td>YES</td>\n",
       "      <td>YES</td>\n",
       "    </tr>\n",
       "    <tr>\n",
       "      <th>2</th>\n",
       "      <td>3</td>\n",
       "      <td>42896</td>\n",
       "      <td>638330</td>\n",
       "      <td>3.29473</td>\n",
       "      <td>NO</td>\n",
       "      <td>NO</td>\n",
       "      <td>0.90</td>\n",
       "      <td>NO</td>\n",
       "      <td>NO</td>\n",
       "    </tr>\n",
       "    <tr>\n",
       "      <th>3</th>\n",
       "      <td>4</td>\n",
       "      <td>35792</td>\n",
       "      <td>506492</td>\n",
       "      <td>3.85684</td>\n",
       "      <td>NO</td>\n",
       "      <td>NO</td>\n",
       "      <td>0.40</td>\n",
       "      <td>NO</td>\n",
       "      <td>NO</td>\n",
       "    </tr>\n",
       "    <tr>\n",
       "      <th>4</th>\n",
       "      <td>5</td>\n",
       "      <td>38624</td>\n",
       "      <td>609658</td>\n",
       "      <td>3.90757</td>\n",
       "      <td>NO</td>\n",
       "      <td>NO</td>\n",
       "      <td>0.87</td>\n",
       "      <td>NO</td>\n",
       "      <td>YES</td>\n",
       "    </tr>\n",
       "  </tbody>\n",
       "</table>\n",
       "</div>"
      ],
      "text/plain": [
       "   Week_num  Passengers  Promotion_Budget  Service_Quality_Score Holiday_week  \\\n",
       "0         1       37824            517356                4.00000           NO   \n",
       "1         2       43936            646086                2.67466           NO   \n",
       "2         3       42896            638330                3.29473           NO   \n",
       "3         4       35792            506492                3.85684           NO   \n",
       "4         5       38624            609658                3.90757           NO   \n",
       "\n",
       "  Delayed_Cancelled_flight_ind  Inter_metro_flight_ratio Bad_Weather_Ind  \\\n",
       "0                           NO                      0.70             YES   \n",
       "1                          YES                      0.80             YES   \n",
       "2                           NO                      0.90              NO   \n",
       "3                           NO                      0.40              NO   \n",
       "4                           NO                      0.87              NO   \n",
       "\n",
       "  Technical_issues_ind  \n",
       "0                  YES  \n",
       "1                  YES  \n",
       "2                   NO  \n",
       "3                   NO  \n",
       "4                  YES  "
      ]
     },
     "execution_count": 17,
     "metadata": {},
     "output_type": "execute_result"
    }
   ],
   "source": [
    "hd.head()"
   ]
  },
  {
   "cell_type": "code",
   "execution_count": 19,
   "metadata": {},
   "outputs": [
    {
     "data": {
      "text/plain": [
       "Index(['Week_num', 'Passengers', 'Promotion_Budget', 'Service_Quality_Score',\n",
       "       'Holiday_week', 'Delayed_Cancelled_flight_ind',\n",
       "       'Inter_metro_flight_ratio', 'Bad_Weather_Ind', 'Technical_issues_ind'],\n",
       "      dtype='object')"
      ]
     },
     "execution_count": 19,
     "metadata": {},
     "output_type": "execute_result"
    }
   ],
   "source": [
    "hd.columns"
   ]
  },
  {
   "cell_type": "code",
   "execution_count": 21,
   "metadata": {},
   "outputs": [
    {
     "data": {
      "text/plain": [
       "Index(['Week_num', 'Passengers', 'Promotion_Budget', 'Service_Quality_Score',\n",
       "       'Holiday_week', 'Delayed_Cancelled_flight_ind',\n",
       "       'Inter_metro_flight_ratio', 'Bad_Weather_Ind', 'Technical_issues_ind'],\n",
       "      dtype='object')"
      ]
     },
     "execution_count": 21,
     "metadata": {},
     "output_type": "execute_result"
    }
   ],
   "source": [
    "hd.keys()"
   ]
  },
  {
   "cell_type": "code",
   "execution_count": 22,
   "metadata": {},
   "outputs": [],
   "source": [
    "hd1=hd[[\"Passengers\",\"Promotion_Budget\"]]"
   ]
  },
  {
   "cell_type": "code",
   "execution_count": 23,
   "metadata": {},
   "outputs": [
    {
     "data": {
      "text/html": [
       "<div>\n",
       "<style scoped>\n",
       "    .dataframe tbody tr th:only-of-type {\n",
       "        vertical-align: middle;\n",
       "    }\n",
       "\n",
       "    .dataframe tbody tr th {\n",
       "        vertical-align: top;\n",
       "    }\n",
       "\n",
       "    .dataframe thead th {\n",
       "        text-align: right;\n",
       "    }\n",
       "</style>\n",
       "<table border=\"1\" class=\"dataframe\">\n",
       "  <thead>\n",
       "    <tr style=\"text-align: right;\">\n",
       "      <th></th>\n",
       "      <th>Passengers</th>\n",
       "      <th>Promotion_Budget</th>\n",
       "    </tr>\n",
       "  </thead>\n",
       "  <tbody>\n",
       "    <tr>\n",
       "      <th>0</th>\n",
       "      <td>37824</td>\n",
       "      <td>517356</td>\n",
       "    </tr>\n",
       "    <tr>\n",
       "      <th>1</th>\n",
       "      <td>43936</td>\n",
       "      <td>646086</td>\n",
       "    </tr>\n",
       "    <tr>\n",
       "      <th>2</th>\n",
       "      <td>42896</td>\n",
       "      <td>638330</td>\n",
       "    </tr>\n",
       "    <tr>\n",
       "      <th>3</th>\n",
       "      <td>35792</td>\n",
       "      <td>506492</td>\n",
       "    </tr>\n",
       "    <tr>\n",
       "      <th>4</th>\n",
       "      <td>38624</td>\n",
       "      <td>609658</td>\n",
       "    </tr>\n",
       "  </tbody>\n",
       "</table>\n",
       "</div>"
      ],
      "text/plain": [
       "   Passengers  Promotion_Budget\n",
       "0       37824            517356\n",
       "1       43936            646086\n",
       "2       42896            638330\n",
       "3       35792            506492\n",
       "4       38624            609658"
      ]
     },
     "execution_count": 23,
     "metadata": {},
     "output_type": "execute_result"
    }
   ],
   "source": [
    "hd1.head()"
   ]
  },
  {
   "cell_type": "markdown",
   "metadata": {},
   "source": [
    "# if you wnt ot biuld the machine learning algorithm make sure all the variables having same units"
   ]
  },
  {
   "cell_type": "code",
   "execution_count": 24,
   "metadata": {},
   "outputs": [],
   "source": [
    "import seaborn as sbn\n",
    "sbn.set(color_codes=True)"
   ]
  },
  {
   "cell_type": "code",
   "execution_count": 25,
   "metadata": {},
   "outputs": [
    {
     "data": {
      "text/plain": [
       "<seaborn.axisgrid.FacetGrid at 0x15ea0e11d90>"
      ]
     },
     "execution_count": 25,
     "metadata": {},
     "output_type": "execute_result"
    },
    {
     "data": {
      "image/png": "[encoded data removed]",
      "text/plain": [
       "<Figure size 360x360 with 1 Axes>"
      ]
     },
     "metadata": {},
     "output_type": "display_data"
    }
   ],
   "source": [
    "sbn.lmplot(x=\"Promotion_Budget\",y=\"Passengers\",data=hd1)"
   ]
  },
  {
   "cell_type": "code",
   "execution_count": 27,
   "metadata": {},
   "outputs": [],
   "source": [
    "from sklearn.preprocessing import MinMaxScaler\n",
    "mn=MinMaxScaler()\n",
    "hd2=pd.DataFrame(mn.fit_transform(hd1),columns=hd1.columns)"
   ]
  },
  {
   "cell_type": "code",
   "execution_count": 28,
   "metadata": {},
   "outputs": [
    {
     "data": {
      "text/html": [
       "<div>\n",
       "<style scoped>\n",
       "    .dataframe tbody tr th:only-of-type {\n",
       "        vertical-align: middle;\n",
       "    }\n",
       "\n",
       "    .dataframe tbody tr th {\n",
       "        vertical-align: top;\n",
       "    }\n",
       "\n",
       "    .dataframe thead th {\n",
       "        text-align: right;\n",
       "    }\n",
       "</style>\n",
       "<table border=\"1\" class=\"dataframe\">\n",
       "  <thead>\n",
       "    <tr style=\"text-align: right;\">\n",
       "      <th></th>\n",
       "      <th>Passengers</th>\n",
       "      <th>Promotion_Budget</th>\n",
       "    </tr>\n",
       "  </thead>\n",
       "  <tbody>\n",
       "    <tr>\n",
       "      <th>0</th>\n",
       "      <td>0.173698</td>\n",
       "      <td>0.204257</td>\n",
       "    </tr>\n",
       "    <tr>\n",
       "      <th>1</th>\n",
       "      <td>0.290055</td>\n",
       "      <td>0.377614</td>\n",
       "    </tr>\n",
       "    <tr>\n",
       "      <th>2</th>\n",
       "      <td>0.270256</td>\n",
       "      <td>0.367169</td>\n",
       "    </tr>\n",
       "    <tr>\n",
       "      <th>3</th>\n",
       "      <td>0.135014</td>\n",
       "      <td>0.189627</td>\n",
       "    </tr>\n",
       "    <tr>\n",
       "      <th>4</th>\n",
       "      <td>0.188928</td>\n",
       "      <td>0.328557</td>\n",
       "    </tr>\n",
       "  </tbody>\n",
       "</table>\n",
       "</div>"
      ],
      "text/plain": [
       "   Passengers  Promotion_Budget\n",
       "0    0.173698          0.204257\n",
       "1    0.290055          0.377614\n",
       "2    0.270256          0.367169\n",
       "3    0.135014          0.189627\n",
       "4    0.188928          0.328557"
      ]
     },
     "execution_count": 28,
     "metadata": {},
     "output_type": "execute_result"
    }
   ],
   "source": [
    "hd2.head()"
   ]
  },
  {
   "cell_type": "code",
   "execution_count": 29,
   "metadata": {},
   "outputs": [
    {
     "data": {
      "text/plain": [
       "{'copy_X': True, 'fit_intercept': True, 'n_jobs': None, 'normalize': False}"
      ]
     },
     "execution_count": 29,
     "metadata": {},
     "output_type": "execute_result"
    }
   ],
   "source": [
    "from sklearn.linear_model import LinearRegression\n",
    "lr=LinearRegression()\n",
    "lr.fit(hd2[[\"Promotion_Budget\"]],hd2[[\"Passengers\"]])\n",
    "lr.get_params()"
   ]
  },
  {
   "cell_type": "code",
   "execution_count": 31,
   "metadata": {},
   "outputs": [
    {
     "data": {
      "text/plain": [
       "array([[0.98292218]])"
      ]
     },
     "execution_count": 31,
     "metadata": {},
     "output_type": "execute_result"
    }
   ],
   "source": [
    "lr.coef_"
   ]
  },
  {
   "cell_type": "code",
   "execution_count": 32,
   "metadata": {},
   "outputs": [
    {
     "data": {
      "text/plain": [
       "array([-0.03835628])"
      ]
     },
     "execution_count": 32,
     "metadata": {},
     "output_type": "execute_result"
    }
   ],
   "source": [
    "lr.intercept_"
   ]
  },
  {
   "cell_type": "code",
   "execution_count": 33,
   "metadata": {},
   "outputs": [],
   "source": [
    "hd2[\"pred\"]=lr.predict(hd2[[\"Promotion_Budget\"]])"
   ]
  },
  {
   "cell_type": "code",
   "execution_count": 34,
   "metadata": {},
   "outputs": [
    {
     "data": {
      "text/html": [
       "<div>\n",
       "<style scoped>\n",
       "    .dataframe tbody tr th:only-of-type {\n",
       "        vertical-align: middle;\n",
       "    }\n",
       "\n",
       "    .dataframe tbody tr th {\n",
       "        vertical-align: top;\n",
       "    }\n",
       "\n",
       "    .dataframe thead th {\n",
       "        text-align: right;\n",
       "    }\n",
       "</style>\n",
       "<table border=\"1\" class=\"dataframe\">\n",
       "  <thead>\n",
       "    <tr style=\"text-align: right;\">\n",
       "      <th></th>\n",
       "      <th>Passengers</th>\n",
       "      <th>Promotion_Budget</th>\n",
       "      <th>pred</th>\n",
       "    </tr>\n",
       "  </thead>\n",
       "  <tbody>\n",
       "    <tr>\n",
       "      <th>0</th>\n",
       "      <td>0.173698</td>\n",
       "      <td>0.204257</td>\n",
       "      <td>0.162413</td>\n",
       "    </tr>\n",
       "    <tr>\n",
       "      <th>1</th>\n",
       "      <td>0.290055</td>\n",
       "      <td>0.377614</td>\n",
       "      <td>0.332808</td>\n",
       "    </tr>\n",
       "    <tr>\n",
       "      <th>2</th>\n",
       "      <td>0.270256</td>\n",
       "      <td>0.367169</td>\n",
       "      <td>0.322542</td>\n",
       "    </tr>\n",
       "    <tr>\n",
       "      <th>3</th>\n",
       "      <td>0.135014</td>\n",
       "      <td>0.189627</td>\n",
       "      <td>0.148032</td>\n",
       "    </tr>\n",
       "    <tr>\n",
       "      <th>4</th>\n",
       "      <td>0.188928</td>\n",
       "      <td>0.328557</td>\n",
       "      <td>0.284590</td>\n",
       "    </tr>\n",
       "  </tbody>\n",
       "</table>\n",
       "</div>"
      ],
      "text/plain": [
       "   Passengers  Promotion_Budget      pred\n",
       "0    0.173698          0.204257  0.162413\n",
       "1    0.290055          0.377614  0.332808\n",
       "2    0.270256          0.367169  0.322542\n",
       "3    0.135014          0.189627  0.148032\n",
       "4    0.188928          0.328557  0.284590"
      ]
     },
     "execution_count": 34,
     "metadata": {},
     "output_type": "execute_result"
    }
   ],
   "source": [
    "hd2.head()"
   ]
  },
  {
   "cell_type": "code",
   "execution_count": 36,
   "metadata": {},
   "outputs": [],
   "source": [
    "from sklearn.metrics import mean_squared_error"
   ]
  },
  {
   "cell_type": "code",
   "execution_count": 37,
   "metadata": {},
   "outputs": [
    {
     "data": {
      "text/plain": [
       "0.003050086537249726"
      ]
     },
     "execution_count": 37,
     "metadata": {},
     "output_type": "execute_result"
    }
   ],
   "source": [
    "mean_squared_error(hd2[\"Passengers\"],hd2[\"pred\"])"
   ]
  },
  {
   "cell_type": "code",
   "execution_count": 43,
   "metadata": {},
   "outputs": [
    {
     "data": {
      "image/png": "[encoded data removed]",
      "text/plain": [
       "<Figure size 432x288 with 1 Axes>"
      ]
     },
     "metadata": {},
     "output_type": "display_data"
    },
    {
     "ename": "ValueError",
     "evalue": "shapes (500,2) and (500,1) not aligned: 2 (dim 1) != 500 (dim 0)",
     "output_type": "error",
     "traceback": [
      "\u001b[1;31m---------------------------------------------------------------------------\u001b[0m",
      "\u001b[1;31mValueError\u001b[0m                                Traceback (most recent call last)",
      "\u001b[1;32m<ipython-input-43-ec4bba99de2e>\u001b[0m in \u001b[0;36m<module>\u001b[1;34m\u001b[0m\n\u001b[0;32m     29\u001b[0m \u001b[1;32mfor\u001b[0m \u001b[0mi\u001b[0m \u001b[1;32min\u001b[0m \u001b[0mrange\u001b[0m\u001b[1;33m(\u001b[0m\u001b[0mnum_iters\u001b[0m\u001b[1;33m)\u001b[0m\u001b[1;33m:\u001b[0m\u001b[1;33m\u001b[0m\u001b[1;33m\u001b[0m\u001b[0m\n\u001b[0;32m     30\u001b[0m     \u001b[0ma\u001b[0m\u001b[1;33m=\u001b[0m\u001b[0mnp\u001b[0m\u001b[1;33m.\u001b[0m\u001b[0msum\u001b[0m\u001b[1;33m(\u001b[0m\u001b[0mtheta\u001b[0m\u001b[1;33m[\u001b[0m\u001b[1;36m0\u001b[0m\u001b[1;33m]\u001b[0m\u001b[1;33m-\u001b[0m\u001b[0malpha\u001b[0m \u001b[1;33m*\u001b[0m \u001b[1;33m(\u001b[0m\u001b[1;36m1\u001b[0m\u001b[1;33m/\u001b[0m\u001b[0mlen\u001b[0m\u001b[1;33m(\u001b[0m\u001b[0my\u001b[0m\u001b[1;33m)\u001b[0m\u001b[1;33m)\u001b[0m \u001b[1;33m*\u001b[0m \u001b[0mnp\u001b[0m\u001b[1;33m.\u001b[0m\u001b[0msum\u001b[0m\u001b[1;33m(\u001b[0m\u001b[1;33m(\u001b[0m\u001b[0mnp\u001b[0m\u001b[1;33m.\u001b[0m\u001b[0mdot\u001b[0m\u001b[1;33m(\u001b[0m\u001b[0mx\u001b[0m\u001b[1;33m,\u001b[0m\u001b[0mtheta\u001b[0m\u001b[1;33m)\u001b[0m\u001b[1;33m-\u001b[0m\u001b[0my\u001b[0m\u001b[1;33m)\u001b[0m\u001b[1;33m)\u001b[0m\u001b[1;33m)\u001b[0m\u001b[1;33m\u001b[0m\u001b[1;33m\u001b[0m\u001b[0m\n\u001b[1;32m---> 31\u001b[1;33m     \u001b[0mb\u001b[0m\u001b[1;33m=\u001b[0m\u001b[0mnp\u001b[0m\u001b[1;33m.\u001b[0m\u001b[0msum\u001b[0m\u001b[1;33m(\u001b[0m\u001b[0mtheta\u001b[0m\u001b[1;33m[\u001b[0m\u001b[1;36m1\u001b[0m\u001b[1;33m]\u001b[0m\u001b[1;33m-\u001b[0m\u001b[0malpha\u001b[0m \u001b[1;33m*\u001b[0m \u001b[1;33m(\u001b[0m\u001b[1;36m1\u001b[0m\u001b[1;33m/\u001b[0m\u001b[0mlen\u001b[0m\u001b[1;33m(\u001b[0m\u001b[0my\u001b[0m\u001b[1;33m)\u001b[0m\u001b[1;33m)\u001b[0m \u001b[1;33m*\u001b[0m \u001b[0mnp\u001b[0m\u001b[1;33m.\u001b[0m\u001b[0msum\u001b[0m\u001b[1;33m(\u001b[0m\u001b[0mnp\u001b[0m\u001b[1;33m.\u001b[0m\u001b[0mdot\u001b[0m\u001b[1;33m(\u001b[0m\u001b[0mx_1\u001b[0m\u001b[1;33m,\u001b[0m\u001b[1;33m(\u001b[0m\u001b[0mnp\u001b[0m\u001b[1;33m.\u001b[0m\u001b[0mdot\u001b[0m\u001b[1;33m(\u001b[0m\u001b[0mx\u001b[0m\u001b[1;33m,\u001b[0m\u001b[0mtheta\u001b[0m\u001b[1;33m)\u001b[0m\u001b[1;33m-\u001b[0m\u001b[0my\u001b[0m\u001b[1;33m)\u001b[0m\u001b[1;33m)\u001b[0m\u001b[1;33m)\u001b[0m\u001b[1;33m)\u001b[0m\u001b[1;33m\u001b[0m\u001b[1;33m\u001b[0m\u001b[0m\n\u001b[0m\u001b[0;32m     32\u001b[0m     \u001b[0mtheta\u001b[0m\u001b[1;33m=\u001b[0m\u001b[0mnp\u001b[0m\u001b[1;33m.\u001b[0m\u001b[0marray\u001b[0m\u001b[1;33m(\u001b[0m\u001b[1;33m[\u001b[0m\u001b[1;33m[\u001b[0m\u001b[0ma\u001b[0m\u001b[1;33m]\u001b[0m\u001b[1;33m,\u001b[0m\u001b[1;33m[\u001b[0m\u001b[0mb\u001b[0m\u001b[1;33m]\u001b[0m\u001b[1;33m]\u001b[0m\u001b[1;33m)\u001b[0m\u001b[1;33m\u001b[0m\u001b[1;33m\u001b[0m\u001b[0m\n\u001b[0;32m     33\u001b[0m \u001b[1;33m\u001b[0m\u001b[0m\n",
      "\u001b[1;32m<__array_function__ internals>\u001b[0m in \u001b[0;36mdot\u001b[1;34m(*args, **kwargs)\u001b[0m\n",
      "\u001b[1;31mValueError\u001b[0m: shapes (500,2) and (500,1) not aligned: 2 (dim 1) != 500 (dim 0)"
     ]
    }
   ],
   "source": [
    "import matplotlib.pyplot as plt\n",
    "x=np.random.uniform(-4,4,500)\n",
    "y=x+np.random.standard_normal(500)+2.5\n",
    "\n",
    "plt.plot(x,y,\"o\")\n",
    "plt.show()\n",
    "\n",
    "\n",
    "def cost (x, y, theta):\n",
    "    j=np.dot((np.dot(x,theta)-y).T,(np.dot(x,theta)-y))/(2*len(y))\n",
    "    \n",
    "    return j\n",
    "\n",
    "\n",
    "alpha=0.1    # specify the learning rate\n",
    "\n",
    "\n",
    "theta=np.array([[0,0]]).T            # initial vaue of theta\n",
    "\n",
    "x=np.c_[np.ones(500),x]\n",
    "y=np.c_[y]\n",
    "x_1=np.c_[x]\n",
    "\n",
    "\n",
    "num_iters=1000\n",
    "cost_history=[]\n",
    "theta_history=[]\n",
    "\n",
    "for i in range(num_iters):\n",
    "    a=np.sum(theta[0]-alpha * (1/len(y)) * np.sum((np.dot(x,theta)-y)))\n",
    "    b=np.sum(theta[1]-alpha * (1/len(y)) * np.sum(np.dot(x_1,(np.dot(x,theta)-y))))\n",
    "    theta=np.array([[a],[b]])\n",
    "             \n",
    "cost_history.append(cost(x,y,theta))\n",
    "theta_hsitory.append(theta)\n",
    "print(theta_history)\n",
    "\n"
   ]
  },
  {
   "cell_type": "code",
   "execution_count": null,
   "metadata": {},
   "outputs": [],
   "source": []
  }
 ],
 "metadata": {
  "kernelspec": {
   "display_name": "Python 3",
   "language": "python",
   "name": "python3"
  },
  "language_info": {
   "codemirror_mode": {
    "name": "ipython",
    "version": 3
   },
   "file_extension": ".py",
   "mimetype": "text/x-python",
   "name": "python",
   "nbconvert_exporter": "python",
   "pygments_lexer": "ipython3",
   "version": "3.8.3"
  }
 },
 "nbformat": 4,
 "nbformat_minor": 4
}
